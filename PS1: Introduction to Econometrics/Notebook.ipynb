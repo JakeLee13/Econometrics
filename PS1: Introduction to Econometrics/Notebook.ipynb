{
 "cells": [
  {
   "cell_type": "markdown",
   "id": "ac78e1de",
   "metadata": {},
   "source": [
    "# Problem Set 1: Summary Statistics\n",
    "### Jake Lee\n",
    "\n",
    "---"
   ]
  },
  {
   "cell_type": "markdown",
   "id": "60bf4c7f",
   "metadata": {},
   "source": [
    "## Import Libraries and Data\n",
    "Data source: These data were used in the doctoral dissertation of Jeffrey Blend,\n",
    "Department of Agricultural Economics, Michigan State University, 1998. The thesis was\n",
    "supervised by Professor Eileen van Ravensway. Drs. Blend and van Ravensway kindly\n",
    "provided the data. The data come from a telephone survey conducted by the Institute for\n",
    "Public Policy and Social Research at MSU."
   ]
  },
  {
   "cell_type": "code",
   "execution_count": 1,
   "id": "ec75141f",
   "metadata": {},
   "outputs": [],
   "source": [
    "import pandas as pd\n",
    "data = 'APPLE.DTA'\n",
    "df = pd.read_stata(data)"
   ]
  },
  {
   "cell_type": "markdown",
   "id": "e512fca4",
   "metadata": {},
   "source": [
    "## 1. Compare the summary statistics for demand for eco-labeled apples classified by gender. What can you infer from these summary statistics?"
   ]
  },
  {
   "cell_type": "code",
   "execution_count": 2,
   "id": "79e4d657",
   "metadata": {},
   "outputs": [
    {
     "data": {
      "text/html": [
       "<div>\n",
       "<style scoped>\n",
       "    .dataframe tbody tr th:only-of-type {\n",
       "        vertical-align: middle;\n",
       "    }\n",
       "\n",
       "    .dataframe tbody tr th {\n",
       "        vertical-align: top;\n",
       "    }\n",
       "\n",
       "    .dataframe thead th {\n",
       "        text-align: right;\n",
       "    }\n",
       "</style>\n",
       "<table border=\"1\" class=\"dataframe\">\n",
       "  <thead>\n",
       "    <tr style=\"text-align: right;\">\n",
       "      <th></th>\n",
       "      <th>male_eco_labeled</th>\n",
       "      <th>female_eco_labeled</th>\n",
       "    </tr>\n",
       "  </thead>\n",
       "  <tbody>\n",
       "    <tr>\n",
       "      <th>count</th>\n",
       "      <td>173.000000</td>\n",
       "      <td>487.000000</td>\n",
       "    </tr>\n",
       "    <tr>\n",
       "      <th>mean</th>\n",
       "      <td>1.466281</td>\n",
       "      <td>1.476728</td>\n",
       "    </tr>\n",
       "    <tr>\n",
       "      <th>std</th>\n",
       "      <td>2.596333</td>\n",
       "      <td>2.502953</td>\n",
       "    </tr>\n",
       "    <tr>\n",
       "      <th>min</th>\n",
       "      <td>0.000000</td>\n",
       "      <td>0.000000</td>\n",
       "    </tr>\n",
       "    <tr>\n",
       "      <th>25%</th>\n",
       "      <td>0.000000</td>\n",
       "      <td>0.000000</td>\n",
       "    </tr>\n",
       "    <tr>\n",
       "      <th>50%</th>\n",
       "      <td>1.000000</td>\n",
       "      <td>1.000000</td>\n",
       "    </tr>\n",
       "    <tr>\n",
       "      <th>75%</th>\n",
       "      <td>2.000000</td>\n",
       "      <td>2.000000</td>\n",
       "    </tr>\n",
       "    <tr>\n",
       "      <th>max</th>\n",
       "      <td>21.000000</td>\n",
       "      <td>42.000000</td>\n",
       "    </tr>\n",
       "  </tbody>\n",
       "</table>\n",
       "</div>"
      ],
      "text/plain": [
       "       male_eco_labeled  female_eco_labeled\n",
       "count        173.000000          487.000000\n",
       "mean           1.466281            1.476728\n",
       "std            2.596333            2.502953\n",
       "min            0.000000            0.000000\n",
       "25%            0.000000            0.000000\n",
       "50%            1.000000            1.000000\n",
       "75%            2.000000            2.000000\n",
       "max           21.000000           42.000000"
      ]
     },
     "execution_count": 2,
     "metadata": {},
     "output_type": "execute_result"
    }
   ],
   "source": [
    "# restrict to male\n",
    "male_df = df[df['male'] == 1]\n",
    "\n",
    "# restrict to female\n",
    "female_df = df[df['male'] == 0]\n",
    "\n",
    "# new df for comparing by gender\n",
    "comparison_df = pd.DataFrame({\n",
    "    'male_eco_labeled': male_df['ecolbs'],\n",
    "    'female_eco_labeled': female_df['ecolbs']\n",
    "})\n",
    "\n",
    "comparison_df.describe()"
   ]
  },
  {
   "cell_type": "markdown",
   "id": "05bf75cc",
   "metadata": {},
   "source": [
    "The comparison suggests that gender does not significantly affect demand for eco-labeled apples. It does reveal that the sample contains more female entries than male."
   ]
  },
  {
   "cell_type": "markdown",
   "id": "ab1e35de",
   "metadata": {},
   "source": [
    "## 2. Obtain the correlation between demand for regular apples, demand for eco-labeled apples, price of regular apples, price of eco-labeled apples, and income. What can you infer from this correlation table?"
   ]
  },
  {
   "cell_type": "code",
   "execution_count": 3,
   "id": "6210f605",
   "metadata": {},
   "outputs": [
    {
     "data": {
      "text/html": [
       "<div>\n",
       "<style scoped>\n",
       "    .dataframe tbody tr th:only-of-type {\n",
       "        vertical-align: middle;\n",
       "    }\n",
       "\n",
       "    .dataframe tbody tr th {\n",
       "        vertical-align: top;\n",
       "    }\n",
       "\n",
       "    .dataframe thead th {\n",
       "        text-align: right;\n",
       "    }\n",
       "</style>\n",
       "<table border=\"1\" class=\"dataframe\">\n",
       "  <thead>\n",
       "    <tr style=\"text-align: right;\">\n",
       "      <th></th>\n",
       "      <th>reglbs</th>\n",
       "      <th>ecolbs</th>\n",
       "      <th>regprc</th>\n",
       "      <th>ecoprc</th>\n",
       "    </tr>\n",
       "  </thead>\n",
       "  <tbody>\n",
       "    <tr>\n",
       "      <th>reglbs</th>\n",
       "      <td>1.000000</td>\n",
       "      <td>-0.163024</td>\n",
       "      <td>-0.057797</td>\n",
       "      <td>-0.020411</td>\n",
       "    </tr>\n",
       "    <tr>\n",
       "      <th>ecolbs</th>\n",
       "      <td>-0.163024</td>\n",
       "      <td>1.000000</td>\n",
       "      <td>0.008663</td>\n",
       "      <td>-0.098912</td>\n",
       "    </tr>\n",
       "    <tr>\n",
       "      <th>regprc</th>\n",
       "      <td>-0.057797</td>\n",
       "      <td>0.008663</td>\n",
       "      <td>1.000000</td>\n",
       "      <td>0.830759</td>\n",
       "    </tr>\n",
       "    <tr>\n",
       "      <th>ecoprc</th>\n",
       "      <td>-0.020411</td>\n",
       "      <td>-0.098912</td>\n",
       "      <td>0.830759</td>\n",
       "      <td>1.000000</td>\n",
       "    </tr>\n",
       "  </tbody>\n",
       "</table>\n",
       "</div>"
      ],
      "text/plain": [
       "          reglbs    ecolbs    regprc    ecoprc\n",
       "reglbs  1.000000 -0.163024 -0.057797 -0.020411\n",
       "ecolbs -0.163024  1.000000  0.008663 -0.098912\n",
       "regprc -0.057797  0.008663  1.000000  0.830759\n",
       "ecoprc -0.020411 -0.098912  0.830759  1.000000"
      ]
     },
     "execution_count": 3,
     "metadata": {},
     "output_type": "execute_result"
    }
   ],
   "source": [
    "# columns of interest\n",
    "columns = ['reglbs', 'ecolbs', 'regprc', 'ecoprc']\n",
    "\n",
    "# df of columns of interest\n",
    "columns_df = df[columns]\n",
    "\n",
    "# create correlation matrix (table)\n",
    "columns_df.corr()"
   ]
  },
  {
   "cell_type": "markdown",
   "id": "b5957440",
   "metadata": {},
   "source": [
    "We can infer that there is an expected strong positive correlation of 0.83 between regular prices and eco prices. This means that as regular prices increase, eco prices will also increase and vice-versa. \n",
    "\n",
    "However, there is also a weak negative correlation between demand for regular labeled and demand for eco-labeled. We can thus infer that different labels are weak substitutes."
   ]
  }
 ],
 "metadata": {
  "kernelspec": {
   "display_name": "Python 3 (ipykernel)",
   "language": "python",
   "name": "python3"
  },
  "language_info": {
   "codemirror_mode": {
    "name": "ipython",
    "version": 3
   },
   "file_extension": ".py",
   "mimetype": "text/x-python",
   "name": "python",
   "nbconvert_exporter": "python",
   "pygments_lexer": "ipython3",
   "version": "3.10.9"
  }
 },
 "nbformat": 4,
 "nbformat_minor": 5
}
