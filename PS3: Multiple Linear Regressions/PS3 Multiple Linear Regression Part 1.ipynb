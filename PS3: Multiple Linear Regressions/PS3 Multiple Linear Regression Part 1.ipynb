{
 "cells": [
  {
   "attachments": {
    "MLR%20plane.webp": {
     "image/webp": "[encoded data removed]"
    }
   },
   "cell_type": "markdown",
   "id": "2c88ec5b",
   "metadata": {},
   "source": [
    "# Problem Set 3: Multiple Linear Regression Part 1\n",
    "### Jake Lee\n",
    "\n",
    "![MLR%20plane.webp](attachment:MLR%20plane.webp)\n",
    "---\n",
    " ### Import Libraries"
   ]
  },
  {
   "cell_type": "code",
   "execution_count": 1,
   "id": "5c4ba11e",
   "metadata": {},
   "outputs": [],
   "source": [
    "import pandas as pd\n",
    "from scipy import stats\n",
    "import matplotlib.pyplot as plt\n",
    "import statsmodels.api as sm\n",
    "import math"
   ]
  },
  {
   "cell_type": "markdown",
   "id": "14fd177c",
   "metadata": {},
   "source": [
    "# Question 1\n",
    "Use the data in HPRICE1.DTA where `price` is the house price measured in thousands of dollars."
   ]
  },
  {
   "cell_type": "code",
   "execution_count": 2,
   "id": "6074b266",
   "metadata": {},
   "outputs": [
    {
     "data": {
      "text/html": [
       "<div>\n",
       "<style scoped>\n",
       "    .dataframe tbody tr th:only-of-type {\n",
       "        vertical-align: middle;\n",
       "    }\n",
       "\n",
       "    .dataframe tbody tr th {\n",
       "        vertical-align: top;\n",
       "    }\n",
       "\n",
       "    .dataframe thead th {\n",
       "        text-align: right;\n",
       "    }\n",
       "</style>\n",
       "<table border=\"1\" class=\"dataframe\">\n",
       "  <thead>\n",
       "    <tr style=\"text-align: right;\">\n",
       "      <th></th>\n",
       "      <th>price</th>\n",
       "      <th>assess</th>\n",
       "      <th>bdrms</th>\n",
       "      <th>lotsize</th>\n",
       "      <th>sqrft</th>\n",
       "      <th>colonial</th>\n",
       "      <th>lprice</th>\n",
       "      <th>lassess</th>\n",
       "      <th>llotsize</th>\n",
       "      <th>lsqrft</th>\n",
       "    </tr>\n",
       "  </thead>\n",
       "  <tbody>\n",
       "    <tr>\n",
       "      <th>0</th>\n",
       "      <td>300.0</td>\n",
       "      <td>349.100006</td>\n",
       "      <td>4</td>\n",
       "      <td>6126.0</td>\n",
       "      <td>2438</td>\n",
       "      <td>1</td>\n",
       "      <td>5.703783</td>\n",
       "      <td>5.855359</td>\n",
       "      <td>8.720297</td>\n",
       "      <td>7.798934</td>\n",
       "    </tr>\n",
       "    <tr>\n",
       "      <th>1</th>\n",
       "      <td>370.0</td>\n",
       "      <td>351.500000</td>\n",
       "      <td>3</td>\n",
       "      <td>9903.0</td>\n",
       "      <td>2076</td>\n",
       "      <td>1</td>\n",
       "      <td>5.913503</td>\n",
       "      <td>5.862210</td>\n",
       "      <td>9.200593</td>\n",
       "      <td>7.638198</td>\n",
       "    </tr>\n",
       "    <tr>\n",
       "      <th>2</th>\n",
       "      <td>191.0</td>\n",
       "      <td>217.699997</td>\n",
       "      <td>3</td>\n",
       "      <td>5200.0</td>\n",
       "      <td>1374</td>\n",
       "      <td>0</td>\n",
       "      <td>5.252274</td>\n",
       "      <td>5.383118</td>\n",
       "      <td>8.556414</td>\n",
       "      <td>7.225482</td>\n",
       "    </tr>\n",
       "    <tr>\n",
       "      <th>3</th>\n",
       "      <td>195.0</td>\n",
       "      <td>231.800003</td>\n",
       "      <td>3</td>\n",
       "      <td>4600.0</td>\n",
       "      <td>1448</td>\n",
       "      <td>1</td>\n",
       "      <td>5.273000</td>\n",
       "      <td>5.445875</td>\n",
       "      <td>8.433811</td>\n",
       "      <td>7.277938</td>\n",
       "    </tr>\n",
       "    <tr>\n",
       "      <th>4</th>\n",
       "      <td>373.0</td>\n",
       "      <td>319.100006</td>\n",
       "      <td>4</td>\n",
       "      <td>6095.0</td>\n",
       "      <td>2514</td>\n",
       "      <td>1</td>\n",
       "      <td>5.921578</td>\n",
       "      <td>5.765504</td>\n",
       "      <td>8.715224</td>\n",
       "      <td>7.829630</td>\n",
       "    </tr>\n",
       "  </tbody>\n",
       "</table>\n",
       "</div>"
      ],
      "text/plain": [
       "   price      assess  bdrms  lotsize  sqrft  colonial    lprice   lassess  \\\n",
       "0  300.0  349.100006      4   6126.0   2438         1  5.703783  5.855359   \n",
       "1  370.0  351.500000      3   9903.0   2076         1  5.913503  5.862210   \n",
       "2  191.0  217.699997      3   5200.0   1374         0  5.252274  5.383118   \n",
       "3  195.0  231.800003      3   4600.0   1448         1  5.273000  5.445875   \n",
       "4  373.0  319.100006      4   6095.0   2514         1  5.921578  5.765504   \n",
       "\n",
       "   llotsize    lsqrft  \n",
       "0  8.720297  7.798934  \n",
       "1  9.200593  7.638198  \n",
       "2  8.556414  7.225482  \n",
       "3  8.433811  7.277938  \n",
       "4  8.715224  7.829630  "
      ]
     },
     "execution_count": 2,
     "metadata": {},
     "output_type": "execute_result"
    }
   ],
   "source": [
    "q1_data = 'HPRICE1.DTA'\n",
    "df = pd.read_stata(q1_data)\n",
    "df.head()"
   ]
  },
  {
   "cell_type": "markdown",
   "id": "0f144be6",
   "metadata": {},
   "source": [
    "### (i) Estimate the regression model where `price` is the explained variable, and `sqrft` & `bdrms` are the explanatory variables."
   ]
  },
  {
   "cell_type": "code",
   "execution_count": 3,
   "id": "dce17b99",
   "metadata": {},
   "outputs": [
    {
     "data": {
      "text/html": [
       "<table class=\"simpletable\">\n",
       "<caption>OLS Regression Results</caption>\n",
       "<tr>\n",
       "  <th>Dep. Variable:</th>          <td>price</td>      <th>  R-squared:         </th> <td>   0.632</td>\n",
       "</tr>\n",
       "<tr>\n",
       "  <th>Model:</th>                   <td>OLS</td>       <th>  Adj. R-squared:    </th> <td>   0.623</td>\n",
       "</tr>\n",
       "<tr>\n",
       "  <th>Method:</th>             <td>Least Squares</td>  <th>  F-statistic:       </th> <td>   72.96</td>\n",
       "</tr>\n",
       "<tr>\n",
       "  <th>Date:</th>             <td>Thu, 14 Sep 2023</td> <th>  Prob (F-statistic):</th> <td>3.57e-19</td>\n",
       "</tr>\n",
       "<tr>\n",
       "  <th>Time:</th>                 <td>12:22:22</td>     <th>  Log-Likelihood:    </th> <td> -488.00</td>\n",
       "</tr>\n",
       "<tr>\n",
       "  <th>No. Observations:</th>      <td>    88</td>      <th>  AIC:               </th> <td>   982.0</td>\n",
       "</tr>\n",
       "<tr>\n",
       "  <th>Df Residuals:</th>          <td>    85</td>      <th>  BIC:               </th> <td>   989.4</td>\n",
       "</tr>\n",
       "<tr>\n",
       "  <th>Df Model:</th>              <td>     2</td>      <th>                     </th>     <td> </td>   \n",
       "</tr>\n",
       "<tr>\n",
       "  <th>Covariance Type:</th>      <td>nonrobust</td>    <th>                     </th>     <td> </td>   \n",
       "</tr>\n",
       "</table>\n",
       "<table class=\"simpletable\">\n",
       "<tr>\n",
       "    <td></td>       <th>coef</th>     <th>std err</th>      <th>t</th>      <th>P>|t|</th>  <th>[0.025</th>    <th>0.975]</th>  \n",
       "</tr>\n",
       "<tr>\n",
       "  <th>const</th> <td>  -19.3150</td> <td>   31.047</td> <td>   -0.622</td> <td> 0.536</td> <td>  -81.044</td> <td>   42.414</td>\n",
       "</tr>\n",
       "<tr>\n",
       "  <th>sqrft</th> <td>    0.1284</td> <td>    0.014</td> <td>    9.291</td> <td> 0.000</td> <td>    0.101</td> <td>    0.156</td>\n",
       "</tr>\n",
       "<tr>\n",
       "  <th>bdrms</th> <td>   15.1982</td> <td>    9.484</td> <td>    1.603</td> <td> 0.113</td> <td>   -3.658</td> <td>   34.054</td>\n",
       "</tr>\n",
       "</table>\n",
       "<table class=\"simpletable\">\n",
       "<tr>\n",
       "  <th>Omnibus:</th>       <td>25.221</td> <th>  Durbin-Watson:     </th> <td>   1.858</td>\n",
       "</tr>\n",
       "<tr>\n",
       "  <th>Prob(Omnibus):</th> <td> 0.000</td> <th>  Jarque-Bera (JB):  </th> <td>  44.973</td>\n",
       "</tr>\n",
       "<tr>\n",
       "  <th>Skew:</th>          <td> 1.122</td> <th>  Prob(JB):          </th> <td>1.72e-10</td>\n",
       "</tr>\n",
       "<tr>\n",
       "  <th>Kurtosis:</th>      <td> 5.689</td> <th>  Cond. No.          </th> <td>9.85e+03</td>\n",
       "</tr>\n",
       "</table><br/><br/>Notes:<br/>[1] Standard Errors assume that the covariance matrix of the errors is correctly specified.<br/>[2] The condition number is large, 9.85e+03. This might indicate that there are<br/>strong multicollinearity or other numerical problems."
      ],
      "text/plain": [
       "<class 'statsmodels.iolib.summary.Summary'>\n",
       "\"\"\"\n",
       "                            OLS Regression Results                            \n",
       "==============================================================================\n",
       "Dep. Variable:                  price   R-squared:                       0.632\n",
       "Model:                            OLS   Adj. R-squared:                  0.623\n",
       "Method:                 Least Squares   F-statistic:                     72.96\n",
       "Date:                Thu, 14 Sep 2023   Prob (F-statistic):           3.57e-19\n",
       "Time:                        12:22:22   Log-Likelihood:                -488.00\n",
       "No. Observations:                  88   AIC:                             982.0\n",
       "Df Residuals:                      85   BIC:                             989.4\n",
       "Df Model:                           2                                         \n",
       "Covariance Type:            nonrobust                                         \n",
       "==============================================================================\n",
       "                 coef    std err          t      P>|t|      [0.025      0.975]\n",
       "------------------------------------------------------------------------------\n",
       "const        -19.3150     31.047     -0.622      0.536     -81.044      42.414\n",
       "sqrft          0.1284      0.014      9.291      0.000       0.101       0.156\n",
       "bdrms         15.1982      9.484      1.603      0.113      -3.658      34.054\n",
       "==============================================================================\n",
       "Omnibus:                       25.221   Durbin-Watson:                   1.858\n",
       "Prob(Omnibus):                  0.000   Jarque-Bera (JB):               44.973\n",
       "Skew:                           1.122   Prob(JB):                     1.72e-10\n",
       "Kurtosis:                       5.689   Cond. No.                     9.85e+03\n",
       "==============================================================================\n",
       "\n",
       "Notes:\n",
       "[1] Standard Errors assume that the covariance matrix of the errors is correctly specified.\n",
       "[2] The condition number is large, 9.85e+03. This might indicate that there are\n",
       "strong multicollinearity or other numerical problems.\n",
       "\"\"\""
      ]
     },
     "execution_count": 3,
     "metadata": {},
     "output_type": "execute_result"
    }
   ],
   "source": [
    "# assign explanatory variables (independent variables)\n",
    "X = df[['sqrft', 'bdrms']]\n",
    "\n",
    "# assign outcome variable (dependent variables)\n",
    "Y = df['price']\n",
    "\n",
    "# add a constant (intercept) to the independent variables\n",
    "X = sm.add_constant(X)\n",
    "\n",
    "# fit the OLS regression model\n",
    "model = sm.OLS(Y, X).fit()\n",
    "\n",
    "# regression summary\n",
    "model.summary()"
   ]
  },
  {
   "cell_type": "markdown",
   "id": "a9a7df19",
   "metadata": {},
   "source": [
    "### (ii) What is the estimated increase in price for a house with one more bedroom, holding square footage constant?"
   ]
  },
  {
   "cell_type": "markdown",
   "id": "86bc551e",
   "metadata": {},
   "source": [
    "$15,200 for an extra bedroom, holding sq feet constant"
   ]
  },
  {
   "cell_type": "markdown",
   "id": "3cf52fb1",
   "metadata": {},
   "source": [
    "### (iii) What is the estimated increase in price for a house with an additional bedroom that is 140 square feet in size? Compare this to your answer in part (ii)."
   ]
  },
  {
   "cell_type": "code",
   "execution_count": 4,
   "id": "34793f54",
   "metadata": {},
   "outputs": [
    {
     "data": {
      "text/plain": [
       "32.670199999999994"
      ]
     },
     "execution_count": 4,
     "metadata": {},
     "output_type": "execute_result"
    }
   ],
   "source": [
    "140*(0.1248) + 15.1982 "
   ]
  },
  {
   "cell_type": "markdown",
   "id": "8a46ecef",
   "metadata": {},
   "source": [
    "$32,670 for an extra bedroom, and an extra 140 sq feet"
   ]
  },
  {
   "cell_type": "markdown",
   "id": "8e66fad1",
   "metadata": {},
   "source": [
    "### (iv) What percentage of the variation in price is explained by square footage and number of bedrooms?"
   ]
  },
  {
   "cell_type": "markdown",
   "id": "3d274810",
   "metadata": {},
   "source": [
    "$R^2 \\approx 63\\%$ implies that about 63 percent of the variation is explained by the independent variables `sqrft` and `bdrms`."
   ]
  },
  {
   "cell_type": "markdown",
   "id": "bf796a46",
   "metadata": {},
   "source": [
    "### (v) The first house in the sample has `sqrft` = 2,438 and `bdrms` = 4. Find the predicted selling price for this house based on the regression estimates."
   ]
  },
  {
   "cell_type": "markdown",
   "id": "260f007c",
   "metadata": {},
   "source": [
    "We can use the following equation using the results from our regression:\n",
    "\n",
    "$price = \\beta_0 + \\beta_1 (sqrft) + \\beta_2(bdrms)$"
   ]
  },
  {
   "cell_type": "code",
   "execution_count": 5,
   "id": "df4a5b22",
   "metadata": {},
   "outputs": [
    {
     "data": {
      "text/plain": [
       "354.512"
      ]
     },
     "execution_count": 5,
     "metadata": {},
     "output_type": "execute_result"
    }
   ],
   "source": [
    "-19.32 + 0.1284*(2438) + 15.1982*(4)"
   ]
  },
  {
   "cell_type": "markdown",
   "id": "1f079da8",
   "metadata": {},
   "source": [
    "\\$354,512 for a 4 bedroom, 2,438 square foot house."
   ]
  },
  {
   "cell_type": "markdown",
   "id": "3fb0d7f4",
   "metadata": {},
   "source": [
    "### (vi) The actual selling price of the first house in the sample was \\$300,000 (so `price` = 300). Find the residual for this house. Does it suggest that the buyer underpaid or overpaid for the house?"
   ]
  },
  {
   "cell_type": "markdown",
   "id": "a81f2f80",
   "metadata": {},
   "source": [
    "$residual = observed\\ value - predicted\\ value$ = $300000 - 354512 \\approx -54000$ , implying that the buyer underpaid."
   ]
  },
  {
   "cell_type": "markdown",
   "id": "87785c75",
   "metadata": {},
   "source": [
    "# Question 2\n",
    "The file CEOSAL2.DTA contains data on 177 chief executive officers and can be used to examine\n",
    "the effects of firm performance (`sales`, `mktval`) on CEO salary (`salary`).\n"
   ]
  },
  {
   "cell_type": "code",
   "execution_count": 6,
   "id": "e479fe0d",
   "metadata": {},
   "outputs": [
    {
     "data": {
      "text/html": [
       "<div>\n",
       "<style scoped>\n",
       "    .dataframe tbody tr th:only-of-type {\n",
       "        vertical-align: middle;\n",
       "    }\n",
       "\n",
       "    .dataframe tbody tr th {\n",
       "        vertical-align: top;\n",
       "    }\n",
       "\n",
       "    .dataframe thead th {\n",
       "        text-align: right;\n",
       "    }\n",
       "</style>\n",
       "<table border=\"1\" class=\"dataframe\">\n",
       "  <thead>\n",
       "    <tr style=\"text-align: right;\">\n",
       "      <th></th>\n",
       "      <th>salary</th>\n",
       "      <th>age</th>\n",
       "      <th>college</th>\n",
       "      <th>grad</th>\n",
       "      <th>comten</th>\n",
       "      <th>ceoten</th>\n",
       "      <th>sales</th>\n",
       "      <th>profits</th>\n",
       "      <th>mktval</th>\n",
       "      <th>lsalary</th>\n",
       "      <th>lsales</th>\n",
       "      <th>lmktval</th>\n",
       "      <th>comtensq</th>\n",
       "      <th>ceotensq</th>\n",
       "      <th>profmarg</th>\n",
       "    </tr>\n",
       "  </thead>\n",
       "  <tbody>\n",
       "    <tr>\n",
       "      <th>0</th>\n",
       "      <td>1161</td>\n",
       "      <td>49</td>\n",
       "      <td>1</td>\n",
       "      <td>1</td>\n",
       "      <td>9</td>\n",
       "      <td>2</td>\n",
       "      <td>6200.0</td>\n",
       "      <td>966</td>\n",
       "      <td>23200.0</td>\n",
       "      <td>7.057037</td>\n",
       "      <td>8.732305</td>\n",
       "      <td>10.051908</td>\n",
       "      <td>81</td>\n",
       "      <td>4</td>\n",
       "      <td>15.580646</td>\n",
       "    </tr>\n",
       "    <tr>\n",
       "      <th>1</th>\n",
       "      <td>600</td>\n",
       "      <td>43</td>\n",
       "      <td>1</td>\n",
       "      <td>1</td>\n",
       "      <td>10</td>\n",
       "      <td>10</td>\n",
       "      <td>283.0</td>\n",
       "      <td>48</td>\n",
       "      <td>1100.0</td>\n",
       "      <td>6.396930</td>\n",
       "      <td>5.645447</td>\n",
       "      <td>7.003066</td>\n",
       "      <td>100</td>\n",
       "      <td>100</td>\n",
       "      <td>16.961130</td>\n",
       "    </tr>\n",
       "    <tr>\n",
       "      <th>2</th>\n",
       "      <td>379</td>\n",
       "      <td>51</td>\n",
       "      <td>1</td>\n",
       "      <td>1</td>\n",
       "      <td>9</td>\n",
       "      <td>3</td>\n",
       "      <td>169.0</td>\n",
       "      <td>40</td>\n",
       "      <td>1100.0</td>\n",
       "      <td>5.937536</td>\n",
       "      <td>5.129899</td>\n",
       "      <td>7.003066</td>\n",
       "      <td>81</td>\n",
       "      <td>9</td>\n",
       "      <td>23.668638</td>\n",
       "    </tr>\n",
       "    <tr>\n",
       "      <th>3</th>\n",
       "      <td>651</td>\n",
       "      <td>55</td>\n",
       "      <td>1</td>\n",
       "      <td>0</td>\n",
       "      <td>22</td>\n",
       "      <td>22</td>\n",
       "      <td>1100.0</td>\n",
       "      <td>-54</td>\n",
       "      <td>1000.0</td>\n",
       "      <td>6.478509</td>\n",
       "      <td>7.003066</td>\n",
       "      <td>6.907755</td>\n",
       "      <td>484</td>\n",
       "      <td>484</td>\n",
       "      <td>-4.909091</td>\n",
       "    </tr>\n",
       "    <tr>\n",
       "      <th>4</th>\n",
       "      <td>497</td>\n",
       "      <td>44</td>\n",
       "      <td>1</td>\n",
       "      <td>1</td>\n",
       "      <td>8</td>\n",
       "      <td>6</td>\n",
       "      <td>351.0</td>\n",
       "      <td>28</td>\n",
       "      <td>387.0</td>\n",
       "      <td>6.208590</td>\n",
       "      <td>5.860786</td>\n",
       "      <td>5.958425</td>\n",
       "      <td>64</td>\n",
       "      <td>36</td>\n",
       "      <td>7.977208</td>\n",
       "    </tr>\n",
       "  </tbody>\n",
       "</table>\n",
       "</div>"
      ],
      "text/plain": [
       "   salary  age  college  grad  comten  ceoten   sales  profits   mktval  \\\n",
       "0    1161   49        1     1       9       2  6200.0      966  23200.0   \n",
       "1     600   43        1     1      10      10   283.0       48   1100.0   \n",
       "2     379   51        1     1       9       3   169.0       40   1100.0   \n",
       "3     651   55        1     0      22      22  1100.0      -54   1000.0   \n",
       "4     497   44        1     1       8       6   351.0       28    387.0   \n",
       "\n",
       "    lsalary    lsales    lmktval  comtensq  ceotensq   profmarg  \n",
       "0  7.057037  8.732305  10.051908        81         4  15.580646  \n",
       "1  6.396930  5.645447   7.003066       100       100  16.961130  \n",
       "2  5.937536  5.129899   7.003066        81         9  23.668638  \n",
       "3  6.478509  7.003066   6.907755       484       484  -4.909091  \n",
       "4  6.208590  5.860786   5.958425        64        36   7.977208  "
      ]
     },
     "execution_count": 6,
     "metadata": {},
     "output_type": "execute_result"
    }
   ],
   "source": [
    "q2data = 'CEOSAL2.DTA'\n",
    "df = pd.read_stata(q2data)\n",
    "df.head()"
   ]
  },
  {
   "cell_type": "markdown",
   "id": "84d307f0",
   "metadata": {},
   "source": [
    "### (i) Estimate a model relating annual salary to firm sales and market value. Make the model of the constant elasticity variety for both independent variables. Write the results out in equation form."
   ]
  },
  {
   "cell_type": "markdown",
   "id": "825262ab",
   "metadata": {},
   "source": [
    "The term \"constant elasticity\" refers to a situation in which the relationship between the dependent variable and one or more independent variables is such that a percentage change in the independent variable is associated with a constant percentage change in the dependent variable. We use the log transformation becaus it converts the exponential growth pattern to a linear growth pattern, and it simultaneously converts the multiplicative (proportional-variance) seasonal pattern to an additive (constant-variance) seasonal pattern. See here for more info regarding logarithms: https://people.duke.edu/~rnau/411log.htm"
   ]
  },
  {
   "cell_type": "code",
   "execution_count": 7,
   "id": "89ba30c9",
   "metadata": {},
   "outputs": [
    {
     "data": {
      "text/html": [
       "<table class=\"simpletable\">\n",
       "<caption>OLS Regression Results</caption>\n",
       "<tr>\n",
       "  <th>Dep. Variable:</th>         <td>lsalary</td>     <th>  R-squared:         </th> <td>   0.299</td>\n",
       "</tr>\n",
       "<tr>\n",
       "  <th>Model:</th>                   <td>OLS</td>       <th>  Adj. R-squared:    </th> <td>   0.291</td>\n",
       "</tr>\n",
       "<tr>\n",
       "  <th>Method:</th>             <td>Least Squares</td>  <th>  F-statistic:       </th> <td>   37.13</td>\n",
       "</tr>\n",
       "<tr>\n",
       "  <th>Date:</th>             <td>Thu, 14 Sep 2023</td> <th>  Prob (F-statistic):</th> <td>3.73e-14</td>\n",
       "</tr>\n",
       "<tr>\n",
       "  <th>Time:</th>                 <td>12:22:22</td>     <th>  Log-Likelihood:    </th> <td> -130.56</td>\n",
       "</tr>\n",
       "<tr>\n",
       "  <th>No. Observations:</th>      <td>   177</td>      <th>  AIC:               </th> <td>   267.1</td>\n",
       "</tr>\n",
       "<tr>\n",
       "  <th>Df Residuals:</th>          <td>   174</td>      <th>  BIC:               </th> <td>   276.6</td>\n",
       "</tr>\n",
       "<tr>\n",
       "  <th>Df Model:</th>              <td>     2</td>      <th>                     </th>     <td> </td>   \n",
       "</tr>\n",
       "<tr>\n",
       "  <th>Covariance Type:</th>      <td>nonrobust</td>    <th>                     </th>     <td> </td>   \n",
       "</tr>\n",
       "</table>\n",
       "<table class=\"simpletable\">\n",
       "<tr>\n",
       "     <td></td>        <th>coef</th>     <th>std err</th>      <th>t</th>      <th>P>|t|</th>  <th>[0.025</th>    <th>0.975]</th>  \n",
       "</tr>\n",
       "<tr>\n",
       "  <th>const</th>   <td>    4.6209</td> <td>    0.254</td> <td>   18.163</td> <td> 0.000</td> <td>    4.119</td> <td>    5.123</td>\n",
       "</tr>\n",
       "<tr>\n",
       "  <th>lsales</th>  <td>    0.1621</td> <td>    0.040</td> <td>    4.087</td> <td> 0.000</td> <td>    0.084</td> <td>    0.240</td>\n",
       "</tr>\n",
       "<tr>\n",
       "  <th>lmktval</th> <td>    0.1067</td> <td>    0.050</td> <td>    2.129</td> <td> 0.035</td> <td>    0.008</td> <td>    0.206</td>\n",
       "</tr>\n",
       "</table>\n",
       "<table class=\"simpletable\">\n",
       "<tr>\n",
       "  <th>Omnibus:</th>       <td>17.241</td> <th>  Durbin-Watson:     </th> <td>   2.092</td>\n",
       "</tr>\n",
       "<tr>\n",
       "  <th>Prob(Omnibus):</th> <td> 0.000</td> <th>  Jarque-Bera (JB):  </th> <td>  63.383</td>\n",
       "</tr>\n",
       "<tr>\n",
       "  <th>Skew:</th>          <td>-0.038</td> <th>  Prob(JB):          </th> <td>1.72e-14</td>\n",
       "</tr>\n",
       "<tr>\n",
       "  <th>Kurtosis:</th>      <td> 5.931</td> <th>  Cond. No.          </th> <td>    70.4</td>\n",
       "</tr>\n",
       "</table><br/><br/>Notes:<br/>[1] Standard Errors assume that the covariance matrix of the errors is correctly specified."
      ],
      "text/plain": [
       "<class 'statsmodels.iolib.summary.Summary'>\n",
       "\"\"\"\n",
       "                            OLS Regression Results                            \n",
       "==============================================================================\n",
       "Dep. Variable:                lsalary   R-squared:                       0.299\n",
       "Model:                            OLS   Adj. R-squared:                  0.291\n",
       "Method:                 Least Squares   F-statistic:                     37.13\n",
       "Date:                Thu, 14 Sep 2023   Prob (F-statistic):           3.73e-14\n",
       "Time:                        12:22:22   Log-Likelihood:                -130.56\n",
       "No. Observations:                 177   AIC:                             267.1\n",
       "Df Residuals:                     174   BIC:                             276.6\n",
       "Df Model:                           2                                         \n",
       "Covariance Type:            nonrobust                                         \n",
       "==============================================================================\n",
       "                 coef    std err          t      P>|t|      [0.025      0.975]\n",
       "------------------------------------------------------------------------------\n",
       "const          4.6209      0.254     18.163      0.000       4.119       5.123\n",
       "lsales         0.1621      0.040      4.087      0.000       0.084       0.240\n",
       "lmktval        0.1067      0.050      2.129      0.035       0.008       0.206\n",
       "==============================================================================\n",
       "Omnibus:                       17.241   Durbin-Watson:                   2.092\n",
       "Prob(Omnibus):                  0.000   Jarque-Bera (JB):               63.383\n",
       "Skew:                          -0.038   Prob(JB):                     1.72e-14\n",
       "Kurtosis:                       5.931   Cond. No.                         70.4\n",
       "==============================================================================\n",
       "\n",
       "Notes:\n",
       "[1] Standard Errors assume that the covariance matrix of the errors is correctly specified.\n",
       "\"\"\""
      ]
     },
     "execution_count": 7,
     "metadata": {},
     "output_type": "execute_result"
    }
   ],
   "source": [
    "X = df[['lsales','lmktval']]\n",
    "Y = df['lsalary']\n",
    "\n",
    "X = sm.add_constant(X)\n",
    "\n",
    "model = sm.OLS(Y, X).fit()\n",
    "\n",
    "model.summary()"
   ]
  },
  {
   "cell_type": "markdown",
   "id": "fe397d1d",
   "metadata": {},
   "source": [
    "$salary = \\beta_0 + \\beta_1 (sales) + \\beta_2(mktval) + \\epsilon$"
   ]
  },
  {
   "cell_type": "markdown",
   "id": "9f19519f",
   "metadata": {},
   "source": [
    "### (ii) Add `profits` to the model from part (i). Why can this variable not be included in logarithmic form? Would you say that these firm performance variables explain most of the variation in CEO salaries?"
   ]
  },
  {
   "cell_type": "code",
   "execution_count": 8,
   "id": "d4d848c3",
   "metadata": {},
   "outputs": [
    {
     "data": {
      "text/html": [
       "<table class=\"simpletable\">\n",
       "<caption>OLS Regression Results</caption>\n",
       "<tr>\n",
       "  <th>Dep. Variable:</th>         <td>lsalary</td>     <th>  R-squared:         </th> <td>   0.299</td>\n",
       "</tr>\n",
       "<tr>\n",
       "  <th>Model:</th>                   <td>OLS</td>       <th>  Adj. R-squared:    </th> <td>   0.287</td>\n",
       "</tr>\n",
       "<tr>\n",
       "  <th>Method:</th>             <td>Least Squares</td>  <th>  F-statistic:       </th> <td>   24.64</td>\n",
       "</tr>\n",
       "<tr>\n",
       "  <th>Date:</th>             <td>Thu, 14 Sep 2023</td> <th>  Prob (F-statistic):</th> <td>2.53e-13</td>\n",
       "</tr>\n",
       "<tr>\n",
       "  <th>Time:</th>                 <td>12:22:22</td>     <th>  Log-Likelihood:    </th> <td> -130.53</td>\n",
       "</tr>\n",
       "<tr>\n",
       "  <th>No. Observations:</th>      <td>   177</td>      <th>  AIC:               </th> <td>   269.1</td>\n",
       "</tr>\n",
       "<tr>\n",
       "  <th>Df Residuals:</th>          <td>   173</td>      <th>  BIC:               </th> <td>   281.8</td>\n",
       "</tr>\n",
       "<tr>\n",
       "  <th>Df Model:</th>              <td>     3</td>      <th>                     </th>     <td> </td>   \n",
       "</tr>\n",
       "<tr>\n",
       "  <th>Covariance Type:</th>      <td>nonrobust</td>    <th>                     </th>     <td> </td>   \n",
       "</tr>\n",
       "</table>\n",
       "<table class=\"simpletable\">\n",
       "<tr>\n",
       "     <td></td>        <th>coef</th>     <th>std err</th>      <th>t</th>      <th>P>|t|</th>  <th>[0.025</th>    <th>0.975]</th>  \n",
       "</tr>\n",
       "<tr>\n",
       "  <th>const</th>   <td>    4.6869</td> <td>    0.380</td> <td>   12.343</td> <td> 0.000</td> <td>    3.937</td> <td>    5.436</td>\n",
       "</tr>\n",
       "<tr>\n",
       "  <th>lsales</th>  <td>    0.1614</td> <td>    0.040</td> <td>    4.043</td> <td> 0.000</td> <td>    0.083</td> <td>    0.240</td>\n",
       "</tr>\n",
       "<tr>\n",
       "  <th>lmktval</th> <td>    0.0975</td> <td>    0.064</td> <td>    1.531</td> <td> 0.128</td> <td>   -0.028</td> <td>    0.223</td>\n",
       "</tr>\n",
       "<tr>\n",
       "  <th>profits</th> <td> 3.566e-05</td> <td>    0.000</td> <td>    0.235</td> <td> 0.815</td> <td>   -0.000</td> <td>    0.000</td>\n",
       "</tr>\n",
       "</table>\n",
       "<table class=\"simpletable\">\n",
       "<tr>\n",
       "  <th>Omnibus:</th>       <td>17.054</td> <th>  Durbin-Watson:     </th> <td>   2.097</td>\n",
       "</tr>\n",
       "<tr>\n",
       "  <th>Prob(Omnibus):</th> <td> 0.000</td> <th>  Jarque-Bera (JB):  </th> <td>  62.074</td>\n",
       "</tr>\n",
       "<tr>\n",
       "  <th>Skew:</th>          <td>-0.029</td> <th>  Prob(JB):          </th> <td>3.32e-14</td>\n",
       "</tr>\n",
       "<tr>\n",
       "  <th>Kurtosis:</th>      <td> 5.901</td> <th>  Cond. No.          </th> <td>4.52e+03</td>\n",
       "</tr>\n",
       "</table><br/><br/>Notes:<br/>[1] Standard Errors assume that the covariance matrix of the errors is correctly specified.<br/>[2] The condition number is large, 4.52e+03. This might indicate that there are<br/>strong multicollinearity or other numerical problems."
      ],
      "text/plain": [
       "<class 'statsmodels.iolib.summary.Summary'>\n",
       "\"\"\"\n",
       "                            OLS Regression Results                            \n",
       "==============================================================================\n",
       "Dep. Variable:                lsalary   R-squared:                       0.299\n",
       "Model:                            OLS   Adj. R-squared:                  0.287\n",
       "Method:                 Least Squares   F-statistic:                     24.64\n",
       "Date:                Thu, 14 Sep 2023   Prob (F-statistic):           2.53e-13\n",
       "Time:                        12:22:22   Log-Likelihood:                -130.53\n",
       "No. Observations:                 177   AIC:                             269.1\n",
       "Df Residuals:                     173   BIC:                             281.8\n",
       "Df Model:                           3                                         \n",
       "Covariance Type:            nonrobust                                         \n",
       "==============================================================================\n",
       "                 coef    std err          t      P>|t|      [0.025      0.975]\n",
       "------------------------------------------------------------------------------\n",
       "const          4.6869      0.380     12.343      0.000       3.937       5.436\n",
       "lsales         0.1614      0.040      4.043      0.000       0.083       0.240\n",
       "lmktval        0.0975      0.064      1.531      0.128      -0.028       0.223\n",
       "profits     3.566e-05      0.000      0.235      0.815      -0.000       0.000\n",
       "==============================================================================\n",
       "Omnibus:                       17.054   Durbin-Watson:                   2.097\n",
       "Prob(Omnibus):                  0.000   Jarque-Bera (JB):               62.074\n",
       "Skew:                          -0.029   Prob(JB):                     3.32e-14\n",
       "Kurtosis:                       5.901   Cond. No.                     4.52e+03\n",
       "==============================================================================\n",
       "\n",
       "Notes:\n",
       "[1] Standard Errors assume that the covariance matrix of the errors is correctly specified.\n",
       "[2] The condition number is large, 4.52e+03. This might indicate that there are\n",
       "strong multicollinearity or other numerical problems.\n",
       "\"\"\""
      ]
     },
     "execution_count": 8,
     "metadata": {},
     "output_type": "execute_result"
    }
   ],
   "source": [
    "X = df[['lsales','lmktval','profits']]\n",
    "Y = df['lsalary']\n",
    "\n",
    "X = sm.add_constant(X)\n",
    "\n",
    "model = sm.OLS(Y, X).fit()\n",
    "\n",
    "model.summary()"
   ]
  },
  {
   "cell_type": "markdown",
   "id": "6665bd16",
   "metadata": {},
   "source": [
    "Since `profits` variable has negative entries, a natural log cannot be computed.\n",
    "\\\n",
    "The $R^2 = 0.299$ implying that only about 30 percent of the variation of `salaries` is explained."
   ]
  },
  {
   "cell_type": "markdown",
   "id": "24dd28a4",
   "metadata": {},
   "source": [
    "### (iii) Add the variable `ceoten` to the model in part (ii). What is the estimated percentage return for another year of CEO tenure, holding other factors fixed?"
   ]
  },
  {
   "cell_type": "code",
   "execution_count": 9,
   "id": "e558159b",
   "metadata": {},
   "outputs": [
    {
     "data": {
      "text/html": [
       "<table class=\"simpletable\">\n",
       "<caption>OLS Regression Results</caption>\n",
       "<tr>\n",
       "  <th>Dep. Variable:</th>         <td>lsalary</td>     <th>  R-squared:         </th> <td>   0.318</td>\n",
       "</tr>\n",
       "<tr>\n",
       "  <th>Model:</th>                   <td>OLS</td>       <th>  Adj. R-squared:    </th> <td>   0.302</td>\n",
       "</tr>\n",
       "<tr>\n",
       "  <th>Method:</th>             <td>Least Squares</td>  <th>  F-statistic:       </th> <td>   20.08</td>\n",
       "</tr>\n",
       "<tr>\n",
       "  <th>Date:</th>             <td>Thu, 14 Sep 2023</td> <th>  Prob (F-statistic):</th> <td>1.39e-13</td>\n",
       "</tr>\n",
       "<tr>\n",
       "  <th>Time:</th>                 <td>12:22:22</td>     <th>  Log-Likelihood:    </th> <td> -128.10</td>\n",
       "</tr>\n",
       "<tr>\n",
       "  <th>No. Observations:</th>      <td>   177</td>      <th>  AIC:               </th> <td>   266.2</td>\n",
       "</tr>\n",
       "<tr>\n",
       "  <th>Df Residuals:</th>          <td>   172</td>      <th>  BIC:               </th> <td>   282.1</td>\n",
       "</tr>\n",
       "<tr>\n",
       "  <th>Df Model:</th>              <td>     4</td>      <th>                     </th>     <td> </td>   \n",
       "</tr>\n",
       "<tr>\n",
       "  <th>Covariance Type:</th>      <td>nonrobust</td>    <th>                     </th>     <td> </td>   \n",
       "</tr>\n",
       "</table>\n",
       "<table class=\"simpletable\">\n",
       "<tr>\n",
       "     <td></td>        <th>coef</th>     <th>std err</th>      <th>t</th>      <th>P>|t|</th>  <th>[0.025</th>    <th>0.975]</th>  \n",
       "</tr>\n",
       "<tr>\n",
       "  <th>const</th>   <td>    4.5578</td> <td>    0.380</td> <td>   11.986</td> <td> 0.000</td> <td>    3.807</td> <td>    5.308</td>\n",
       "</tr>\n",
       "<tr>\n",
       "  <th>lsales</th>  <td>    0.1622</td> <td>    0.039</td> <td>    4.109</td> <td> 0.000</td> <td>    0.084</td> <td>    0.240</td>\n",
       "</tr>\n",
       "<tr>\n",
       "  <th>lmktval</th> <td>    0.1018</td> <td>    0.063</td> <td>    1.614</td> <td> 0.108</td> <td>   -0.023</td> <td>    0.226</td>\n",
       "</tr>\n",
       "<tr>\n",
       "  <th>profits</th> <td> 2.905e-05</td> <td>    0.000</td> <td>    0.193</td> <td> 0.847</td> <td>   -0.000</td> <td>    0.000</td>\n",
       "</tr>\n",
       "<tr>\n",
       "  <th>ceoten</th>  <td>    0.0117</td> <td>    0.005</td> <td>    2.187</td> <td> 0.030</td> <td>    0.001</td> <td>    0.022</td>\n",
       "</tr>\n",
       "</table>\n",
       "<table class=\"simpletable\">\n",
       "<tr>\n",
       "  <th>Omnibus:</th>       <td>25.236</td> <th>  Durbin-Watson:     </th> <td>   2.047</td>\n",
       "</tr>\n",
       "<tr>\n",
       "  <th>Prob(Omnibus):</th> <td> 0.000</td> <th>  Jarque-Bera (JB):  </th> <td> 121.011</td>\n",
       "</tr>\n",
       "<tr>\n",
       "  <th>Skew:</th>          <td>-0.281</td> <th>  Prob(JB):          </th> <td>5.28e-27</td>\n",
       "</tr>\n",
       "<tr>\n",
       "  <th>Kurtosis:</th>      <td> 7.012</td> <th>  Cond. No.          </th> <td>4.57e+03</td>\n",
       "</tr>\n",
       "</table><br/><br/>Notes:<br/>[1] Standard Errors assume that the covariance matrix of the errors is correctly specified.<br/>[2] The condition number is large, 4.57e+03. This might indicate that there are<br/>strong multicollinearity or other numerical problems."
      ],
      "text/plain": [
       "<class 'statsmodels.iolib.summary.Summary'>\n",
       "\"\"\"\n",
       "                            OLS Regression Results                            \n",
       "==============================================================================\n",
       "Dep. Variable:                lsalary   R-squared:                       0.318\n",
       "Model:                            OLS   Adj. R-squared:                  0.302\n",
       "Method:                 Least Squares   F-statistic:                     20.08\n",
       "Date:                Thu, 14 Sep 2023   Prob (F-statistic):           1.39e-13\n",
       "Time:                        12:22:22   Log-Likelihood:                -128.10\n",
       "No. Observations:                 177   AIC:                             266.2\n",
       "Df Residuals:                     172   BIC:                             282.1\n",
       "Df Model:                           4                                         \n",
       "Covariance Type:            nonrobust                                         \n",
       "==============================================================================\n",
       "                 coef    std err          t      P>|t|      [0.025      0.975]\n",
       "------------------------------------------------------------------------------\n",
       "const          4.5578      0.380     11.986      0.000       3.807       5.308\n",
       "lsales         0.1622      0.039      4.109      0.000       0.084       0.240\n",
       "lmktval        0.1018      0.063      1.614      0.108      -0.023       0.226\n",
       "profits     2.905e-05      0.000      0.193      0.847      -0.000       0.000\n",
       "ceoten         0.0117      0.005      2.187      0.030       0.001       0.022\n",
       "==============================================================================\n",
       "Omnibus:                       25.236   Durbin-Watson:                   2.047\n",
       "Prob(Omnibus):                  0.000   Jarque-Bera (JB):              121.011\n",
       "Skew:                          -0.281   Prob(JB):                     5.28e-27\n",
       "Kurtosis:                       7.012   Cond. No.                     4.57e+03\n",
       "==============================================================================\n",
       "\n",
       "Notes:\n",
       "[1] Standard Errors assume that the covariance matrix of the errors is correctly specified.\n",
       "[2] The condition number is large, 4.57e+03. This might indicate that there are\n",
       "strong multicollinearity or other numerical problems.\n",
       "\"\"\""
      ]
     },
     "execution_count": 9,
     "metadata": {},
     "output_type": "execute_result"
    }
   ],
   "source": [
    "X = df[['lsales','lmktval','profits', 'ceoten']]\n",
    "Y = df['lsalary']\n",
    "\n",
    "X = sm.add_constant(X)\n",
    "\n",
    "model = sm.OLS(Y, X).fit()\n",
    "\n",
    "model.summary()"
   ]
  },
  {
   "cell_type": "markdown",
   "id": "e38b4c07",
   "metadata": {},
   "source": [
    "An extra year of tenure yields a 1.17 percent increase in CEO salary, all else fixed."
   ]
  },
  {
   "cell_type": "markdown",
   "id": "759200bd",
   "metadata": {},
   "source": [
    "### (iv) Find the sample correlation coefficient between the variables log(mktval) and profits. Are these variables highly correlated? What does this say about the OLS estimators?"
   ]
  },
  {
   "cell_type": "code",
   "execution_count": 10,
   "id": "8f3a4637",
   "metadata": {},
   "outputs": [
    {
     "data": {
      "text/html": [
       "<div>\n",
       "<style scoped>\n",
       "    .dataframe tbody tr th:only-of-type {\n",
       "        vertical-align: middle;\n",
       "    }\n",
       "\n",
       "    .dataframe tbody tr th {\n",
       "        vertical-align: top;\n",
       "    }\n",
       "\n",
       "    .dataframe thead th {\n",
       "        text-align: right;\n",
       "    }\n",
       "</style>\n",
       "<table border=\"1\" class=\"dataframe\">\n",
       "  <thead>\n",
       "    <tr style=\"text-align: right;\">\n",
       "      <th></th>\n",
       "      <th>lmktval</th>\n",
       "      <th>profits</th>\n",
       "    </tr>\n",
       "  </thead>\n",
       "  <tbody>\n",
       "    <tr>\n",
       "      <th>lmktval</th>\n",
       "      <td>1.000000</td>\n",
       "      <td>0.776898</td>\n",
       "    </tr>\n",
       "    <tr>\n",
       "      <th>profits</th>\n",
       "      <td>0.776898</td>\n",
       "      <td>1.000000</td>\n",
       "    </tr>\n",
       "  </tbody>\n",
       "</table>\n",
       "</div>"
      ],
      "text/plain": [
       "          lmktval   profits\n",
       "lmktval  1.000000  0.776898\n",
       "profits  0.776898  1.000000"
      ]
     },
     "execution_count": 10,
     "metadata": {},
     "output_type": "execute_result"
    }
   ],
   "source": [
    "corr_df = df[['lmktval','profits']]\n",
    "corr_df.corr()"
   ]
  },
  {
   "cell_type": "markdown",
   "id": "1e3b4003",
   "metadata": {},
   "source": [
    "There is a high correlation of 0.78 between `lmktval` and `profits`. Unless there existed perfect collinearity, there is no effect on the OLS estimates from above. \n",
    "\n",
    " - While collinearity doesn't directly bias the OLS estimates of the coefficients, it can make the standard errors of those estimates larger, which affects the precision and interpretability of the results. Researchers often pay attention to the standard errors when assessing the impact of collinearity because they influence hypothesis tests, confidence intervals, and the ability to make statistically significant inferences about the relationships between variables."
   ]
  },
  {
   "cell_type": "markdown",
   "id": "82b3d9c6",
   "metadata": {},
   "source": [
    "# Question 3\n",
    "Use the data in ATTEND.DTA for this exercise."
   ]
  },
  {
   "cell_type": "code",
   "execution_count": 11,
   "id": "669a3d23",
   "metadata": {},
   "outputs": [
    {
     "data": {
      "text/html": [
       "<div>\n",
       "<style scoped>\n",
       "    .dataframe tbody tr th:only-of-type {\n",
       "        vertical-align: middle;\n",
       "    }\n",
       "\n",
       "    .dataframe tbody tr th {\n",
       "        vertical-align: top;\n",
       "    }\n",
       "\n",
       "    .dataframe thead th {\n",
       "        text-align: right;\n",
       "    }\n",
       "</style>\n",
       "<table border=\"1\" class=\"dataframe\">\n",
       "  <thead>\n",
       "    <tr style=\"text-align: right;\">\n",
       "      <th></th>\n",
       "      <th>attend</th>\n",
       "      <th>termGPA</th>\n",
       "      <th>priGPA</th>\n",
       "      <th>ACT</th>\n",
       "      <th>final</th>\n",
       "      <th>atndrte</th>\n",
       "      <th>hwrte</th>\n",
       "      <th>frosh</th>\n",
       "      <th>soph</th>\n",
       "      <th>missed</th>\n",
       "      <th>stndfnl</th>\n",
       "    </tr>\n",
       "  </thead>\n",
       "  <tbody>\n",
       "    <tr>\n",
       "      <th>0</th>\n",
       "      <td>27</td>\n",
       "      <td>3.19</td>\n",
       "      <td>2.64</td>\n",
       "      <td>23</td>\n",
       "      <td>28</td>\n",
       "      <td>84.375</td>\n",
       "      <td>100.0</td>\n",
       "      <td>0</td>\n",
       "      <td>1</td>\n",
       "      <td>5</td>\n",
       "      <td>0.472689</td>\n",
       "    </tr>\n",
       "    <tr>\n",
       "      <th>1</th>\n",
       "      <td>22</td>\n",
       "      <td>2.73</td>\n",
       "      <td>3.52</td>\n",
       "      <td>25</td>\n",
       "      <td>26</td>\n",
       "      <td>68.750</td>\n",
       "      <td>87.5</td>\n",
       "      <td>0</td>\n",
       "      <td>0</td>\n",
       "      <td>10</td>\n",
       "      <td>0.052521</td>\n",
       "    </tr>\n",
       "    <tr>\n",
       "      <th>2</th>\n",
       "      <td>30</td>\n",
       "      <td>3.00</td>\n",
       "      <td>2.46</td>\n",
       "      <td>24</td>\n",
       "      <td>30</td>\n",
       "      <td>93.750</td>\n",
       "      <td>87.5</td>\n",
       "      <td>0</td>\n",
       "      <td>0</td>\n",
       "      <td>2</td>\n",
       "      <td>0.892857</td>\n",
       "    </tr>\n",
       "    <tr>\n",
       "      <th>3</th>\n",
       "      <td>31</td>\n",
       "      <td>2.04</td>\n",
       "      <td>2.61</td>\n",
       "      <td>20</td>\n",
       "      <td>27</td>\n",
       "      <td>96.875</td>\n",
       "      <td>100.0</td>\n",
       "      <td>0</td>\n",
       "      <td>1</td>\n",
       "      <td>1</td>\n",
       "      <td>0.262605</td>\n",
       "    </tr>\n",
       "    <tr>\n",
       "      <th>4</th>\n",
       "      <td>32</td>\n",
       "      <td>3.68</td>\n",
       "      <td>3.32</td>\n",
       "      <td>23</td>\n",
       "      <td>34</td>\n",
       "      <td>100.000</td>\n",
       "      <td>100.0</td>\n",
       "      <td>0</td>\n",
       "      <td>1</td>\n",
       "      <td>0</td>\n",
       "      <td>1.733193</td>\n",
       "    </tr>\n",
       "  </tbody>\n",
       "</table>\n",
       "</div>"
      ],
      "text/plain": [
       "   attend  termGPA  priGPA  ACT  final  atndrte  hwrte  frosh  soph  missed  \\\n",
       "0      27     3.19    2.64   23     28   84.375  100.0      0     1       5   \n",
       "1      22     2.73    3.52   25     26   68.750   87.5      0     0      10   \n",
       "2      30     3.00    2.46   24     30   93.750   87.5      0     0       2   \n",
       "3      31     2.04    2.61   20     27   96.875  100.0      0     1       1   \n",
       "4      32     3.68    3.32   23     34  100.000  100.0      0     1       0   \n",
       "\n",
       "    stndfnl  \n",
       "0  0.472689  \n",
       "1  0.052521  \n",
       "2  0.892857  \n",
       "3  0.262605  \n",
       "4  1.733193  "
      ]
     },
     "execution_count": 11,
     "metadata": {},
     "output_type": "execute_result"
    }
   ],
   "source": [
    "q3data = 'ATTEND.DTA'\n",
    "df = pd.read_stata(q3data)\n",
    "df.head()"
   ]
  },
  {
   "cell_type": "markdown",
   "id": "ac0d53dc",
   "metadata": {},
   "source": [
    "### (i) Obtain the minimum, maximum, and average values for the variables `atndrte`, `priGPA`, and `ACT`."
   ]
  },
  {
   "cell_type": "code",
   "execution_count": 12,
   "id": "7f59158b",
   "metadata": {},
   "outputs": [
    {
     "data": {
      "text/html": [
       "<div>\n",
       "<style scoped>\n",
       "    .dataframe tbody tr th:only-of-type {\n",
       "        vertical-align: middle;\n",
       "    }\n",
       "\n",
       "    .dataframe tbody tr th {\n",
       "        vertical-align: top;\n",
       "    }\n",
       "\n",
       "    .dataframe thead th {\n",
       "        text-align: right;\n",
       "    }\n",
       "</style>\n",
       "<table border=\"1\" class=\"dataframe\">\n",
       "  <thead>\n",
       "    <tr style=\"text-align: right;\">\n",
       "      <th></th>\n",
       "      <th>atndrte</th>\n",
       "      <th>priGPA</th>\n",
       "      <th>ACT</th>\n",
       "    </tr>\n",
       "  </thead>\n",
       "  <tbody>\n",
       "    <tr>\n",
       "      <th>count</th>\n",
       "      <td>680.000000</td>\n",
       "      <td>680.000000</td>\n",
       "      <td>680.000000</td>\n",
       "    </tr>\n",
       "    <tr>\n",
       "      <th>mean</th>\n",
       "      <td>81.709557</td>\n",
       "      <td>2.586775</td>\n",
       "      <td>22.510294</td>\n",
       "    </tr>\n",
       "    <tr>\n",
       "      <th>std</th>\n",
       "      <td>17.046988</td>\n",
       "      <td>0.544714</td>\n",
       "      <td>3.490768</td>\n",
       "    </tr>\n",
       "    <tr>\n",
       "      <th>min</th>\n",
       "      <td>6.250000</td>\n",
       "      <td>0.857000</td>\n",
       "      <td>13.000000</td>\n",
       "    </tr>\n",
       "    <tr>\n",
       "      <th>25%</th>\n",
       "      <td>75.000000</td>\n",
       "      <td>2.190000</td>\n",
       "      <td>20.000000</td>\n",
       "    </tr>\n",
       "    <tr>\n",
       "      <th>50%</th>\n",
       "      <td>87.500000</td>\n",
       "      <td>2.560000</td>\n",
       "      <td>22.000000</td>\n",
       "    </tr>\n",
       "    <tr>\n",
       "      <th>75%</th>\n",
       "      <td>93.750000</td>\n",
       "      <td>2.942500</td>\n",
       "      <td>25.000000</td>\n",
       "    </tr>\n",
       "    <tr>\n",
       "      <th>max</th>\n",
       "      <td>100.000000</td>\n",
       "      <td>3.930000</td>\n",
       "      <td>32.000000</td>\n",
       "    </tr>\n",
       "  </tbody>\n",
       "</table>\n",
       "</div>"
      ],
      "text/plain": [
       "          atndrte      priGPA         ACT\n",
       "count  680.000000  680.000000  680.000000\n",
       "mean    81.709557    2.586775   22.510294\n",
       "std     17.046988    0.544714    3.490768\n",
       "min      6.250000    0.857000   13.000000\n",
       "25%     75.000000    2.190000   20.000000\n",
       "50%     87.500000    2.560000   22.000000\n",
       "75%     93.750000    2.942500   25.000000\n",
       "max    100.000000    3.930000   32.000000"
      ]
     },
     "execution_count": 12,
     "metadata": {},
     "output_type": "execute_result"
    }
   ],
   "source": [
    "min_max_avg = df[['atndrte', 'priGPA', 'ACT']]\n",
    "min_max_avg.describe()"
   ]
  },
  {
   "cell_type": "markdown",
   "id": "9ab4c57c",
   "metadata": {},
   "source": [
    "### (ii) Estimate the regression model where `atndrte` is the explained variable and `priGPA` & `ACT` are explanatory variables. Interpret the intercept. Does it have a useful meaning?"
   ]
  },
  {
   "cell_type": "code",
   "execution_count": 13,
   "id": "e1745983",
   "metadata": {},
   "outputs": [
    {
     "data": {
      "text/html": [
       "<table class=\"simpletable\">\n",
       "<caption>OLS Regression Results</caption>\n",
       "<tr>\n",
       "  <th>Dep. Variable:</th>         <td>atndrte</td>     <th>  R-squared:         </th> <td>   0.291</td>\n",
       "</tr>\n",
       "<tr>\n",
       "  <th>Model:</th>                   <td>OLS</td>       <th>  Adj. R-squared:    </th> <td>   0.288</td>\n",
       "</tr>\n",
       "<tr>\n",
       "  <th>Method:</th>             <td>Least Squares</td>  <th>  F-statistic:       </th> <td>   138.7</td>\n",
       "</tr>\n",
       "<tr>\n",
       "  <th>Date:</th>             <td>Thu, 14 Sep 2023</td> <th>  Prob (F-statistic):</th> <td>3.39e-51</td>\n",
       "</tr>\n",
       "<tr>\n",
       "  <th>Time:</th>                 <td>12:22:22</td>     <th>  Log-Likelihood:    </th> <td> -2776.1</td>\n",
       "</tr>\n",
       "<tr>\n",
       "  <th>No. Observations:</th>      <td>   680</td>      <th>  AIC:               </th> <td>   5558.</td>\n",
       "</tr>\n",
       "<tr>\n",
       "  <th>Df Residuals:</th>          <td>   677</td>      <th>  BIC:               </th> <td>   5572.</td>\n",
       "</tr>\n",
       "<tr>\n",
       "  <th>Df Model:</th>              <td>     2</td>      <th>                     </th>     <td> </td>   \n",
       "</tr>\n",
       "<tr>\n",
       "  <th>Covariance Type:</th>      <td>nonrobust</td>    <th>                     </th>     <td> </td>   \n",
       "</tr>\n",
       "</table>\n",
       "<table class=\"simpletable\">\n",
       "<tr>\n",
       "     <td></td>       <th>coef</th>     <th>std err</th>      <th>t</th>      <th>P>|t|</th>  <th>[0.025</th>    <th>0.975]</th>  \n",
       "</tr>\n",
       "<tr>\n",
       "  <th>const</th>  <td>   75.7004</td> <td>    3.884</td> <td>   19.490</td> <td> 0.000</td> <td>   68.074</td> <td>   83.327</td>\n",
       "</tr>\n",
       "<tr>\n",
       "  <th>priGPA</th> <td>   17.2606</td> <td>    1.083</td> <td>   15.936</td> <td> 0.000</td> <td>   15.134</td> <td>   19.387</td>\n",
       "</tr>\n",
       "<tr>\n",
       "  <th>ACT</th>    <td>   -1.7166</td> <td>    0.169</td> <td>  -10.156</td> <td> 0.000</td> <td>   -2.048</td> <td>   -1.385</td>\n",
       "</tr>\n",
       "</table>\n",
       "<table class=\"simpletable\">\n",
       "<tr>\n",
       "  <th>Omnibus:</th>       <td>126.367</td> <th>  Durbin-Watson:     </th> <td>   2.011</td>\n",
       "</tr>\n",
       "<tr>\n",
       "  <th>Prob(Omnibus):</th> <td> 0.000</td>  <th>  Jarque-Bera (JB):  </th> <td> 237.444</td>\n",
       "</tr>\n",
       "<tr>\n",
       "  <th>Skew:</th>          <td>-1.079</td>  <th>  Prob(JB):          </th> <td>2.75e-52</td>\n",
       "</tr>\n",
       "<tr>\n",
       "  <th>Kurtosis:</th>      <td> 4.929</td>  <th>  Cond. No.          </th> <td>    163.</td>\n",
       "</tr>\n",
       "</table><br/><br/>Notes:<br/>[1] Standard Errors assume that the covariance matrix of the errors is correctly specified."
      ],
      "text/plain": [
       "<class 'statsmodels.iolib.summary.Summary'>\n",
       "\"\"\"\n",
       "                            OLS Regression Results                            \n",
       "==============================================================================\n",
       "Dep. Variable:                atndrte   R-squared:                       0.291\n",
       "Model:                            OLS   Adj. R-squared:                  0.288\n",
       "Method:                 Least Squares   F-statistic:                     138.7\n",
       "Date:                Thu, 14 Sep 2023   Prob (F-statistic):           3.39e-51\n",
       "Time:                        12:22:22   Log-Likelihood:                -2776.1\n",
       "No. Observations:                 680   AIC:                             5558.\n",
       "Df Residuals:                     677   BIC:                             5572.\n",
       "Df Model:                           2                                         \n",
       "Covariance Type:            nonrobust                                         \n",
       "==============================================================================\n",
       "                 coef    std err          t      P>|t|      [0.025      0.975]\n",
       "------------------------------------------------------------------------------\n",
       "const         75.7004      3.884     19.490      0.000      68.074      83.327\n",
       "priGPA        17.2606      1.083     15.936      0.000      15.134      19.387\n",
       "ACT           -1.7166      0.169    -10.156      0.000      -2.048      -1.385\n",
       "==============================================================================\n",
       "Omnibus:                      126.367   Durbin-Watson:                   2.011\n",
       "Prob(Omnibus):                  0.000   Jarque-Bera (JB):              237.444\n",
       "Skew:                          -1.079   Prob(JB):                     2.75e-52\n",
       "Kurtosis:                       4.929   Cond. No.                         163.\n",
       "==============================================================================\n",
       "\n",
       "Notes:\n",
       "[1] Standard Errors assume that the covariance matrix of the errors is correctly specified.\n",
       "\"\"\""
      ]
     },
     "execution_count": 13,
     "metadata": {},
     "output_type": "execute_result"
    }
   ],
   "source": [
    "X = df[['priGPA', 'ACT']]\n",
    "Y = df['atndrte']\n",
    "\n",
    "X = sm.add_constant(X)\n",
    "\n",
    "model = sm.OLS(Y, X).fit()\n",
    "\n",
    "model.summary()"
   ]
  },
  {
   "cell_type": "markdown",
   "id": "157286dc",
   "metadata": {},
   "source": [
    "The intercept implies that when other variables are held constant, the attendance rate is 75.7 percent. In the scope of the regression, it does not inform us of any significant information."
   ]
  },
  {
   "cell_type": "markdown",
   "id": "9aba03a0",
   "metadata": {},
   "source": [
    "### (iii) Discuss the estimated slope coefficients. Are there any surprises?"
   ]
  },
  {
   "cell_type": "markdown",
   "id": "024ff3a4",
   "metadata": {},
   "source": [
    "The slope coefficient for `priGPA` = 17.26\n",
    " -  Holding other variables fixed, the increase in cumulative GPA prior to term by 1 (`priGPA`)\n",
    "    increases the attendance rate (`atndrte`) by 17.26 percent points.\n",
    "    \n",
    "The slope coefficient for `ACT` = -1.72\n",
    " - Holding other variables fixed, the increase in ACT score (`ACT`) by 1 decreases\n",
    "    attendance rate (`atndrte`) by 1.72 percent points.\n",
    " - This is surprising because an increase in ACT score would seem to imply that a student regularly attends class. The data does not support this, and instead showcases that per point increase in ACT score, the attendance rate actually decreases. \n",
    "\n"
   ]
  },
  {
   "cell_type": "markdown",
   "id": "fcfc4a18",
   "metadata": {},
   "source": [
    "### (iv) What is the predicted atndrte if `priGPA` = 3.65 and `ACT` = 20? What do you make of this result? Are there any students in the sample with these values of the explanatory variables?"
   ]
  },
  {
   "cell_type": "code",
   "execution_count": 14,
   "id": "29c63f5f",
   "metadata": {},
   "outputs": [
    {
     "name": "stdout",
     "output_type": "stream",
     "text": [
      "attendance_rate: 104.37\n"
     ]
    }
   ],
   "source": [
    "# using regression formula from above:\n",
    "attendance_rate = 75.7 + 17.26*(3.65) - 1.7166*(20)\n",
    "print(\"attendance_rate: {:.2f}\".format(attendance_rate))"
   ]
  },
  {
   "cell_type": "markdown",
   "id": "b9449063",
   "metadata": {},
   "source": [
    "This is implausible because an attentance rate cannot exceed 100 percent."
   ]
  },
  {
   "cell_type": "code",
   "execution_count": 15,
   "id": "612c5ef0",
   "metadata": {
    "scrolled": true
   },
   "outputs": [
    {
     "data": {
      "text/html": [
       "<div>\n",
       "<style scoped>\n",
       "    .dataframe tbody tr th:only-of-type {\n",
       "        vertical-align: middle;\n",
       "    }\n",
       "\n",
       "    .dataframe tbody tr th {\n",
       "        vertical-align: top;\n",
       "    }\n",
       "\n",
       "    .dataframe thead th {\n",
       "        text-align: right;\n",
       "    }\n",
       "</style>\n",
       "<table border=\"1\" class=\"dataframe\">\n",
       "  <thead>\n",
       "    <tr style=\"text-align: right;\">\n",
       "      <th></th>\n",
       "      <th>attend</th>\n",
       "      <th>termGPA</th>\n",
       "      <th>priGPA</th>\n",
       "      <th>ACT</th>\n",
       "      <th>final</th>\n",
       "      <th>atndrte</th>\n",
       "      <th>hwrte</th>\n",
       "      <th>frosh</th>\n",
       "      <th>soph</th>\n",
       "      <th>missed</th>\n",
       "      <th>stndfnl</th>\n",
       "    </tr>\n",
       "  </thead>\n",
       "  <tbody>\n",
       "    <tr>\n",
       "      <th>568</th>\n",
       "      <td>28</td>\n",
       "      <td>3.5</td>\n",
       "      <td>3.65</td>\n",
       "      <td>20</td>\n",
       "      <td>29</td>\n",
       "      <td>87.5</td>\n",
       "      <td>50.0</td>\n",
       "      <td>1</td>\n",
       "      <td>0</td>\n",
       "      <td>4</td>\n",
       "      <td>0.682773</td>\n",
       "    </tr>\n",
       "  </tbody>\n",
       "</table>\n",
       "</div>"
      ],
      "text/plain": [
       "     attend  termGPA  priGPA  ACT  final  atndrte  hwrte  frosh  soph  missed  \\\n",
       "568      28      3.5    3.65   20     29     87.5   50.0      1     0       4   \n",
       "\n",
       "      stndfnl  \n",
       "568  0.682773  "
      ]
     },
     "execution_count": 15,
     "metadata": {},
     "output_type": "execute_result"
    }
   ],
   "source": [
    "df[(df['priGPA'] == 3.65) & (df['ACT'] == 20)] "
   ]
  },
  {
   "cell_type": "markdown",
   "id": "9eafd646",
   "metadata": {},
   "source": [
    "There is one student and his attendance rate is 87.5 percent, differing from our regression by about 15 percent."
   ]
  },
  {
   "cell_type": "markdown",
   "id": "31aec299",
   "metadata": {},
   "source": [
    "### (v) If Student A has priGPA = 3.1 and ACT = 21 and Student B has priGPA = 2.1 and ACT = 26, what is the predicted difference in their attendance rates?"
   ]
  },
  {
   "cell_type": "code",
   "execution_count": 16,
   "id": "236729b2",
   "metadata": {},
   "outputs": [
    {
     "name": "stdout",
     "output_type": "stream",
     "text": [
      "attendance rate difference: 25.84%\n"
     ]
    }
   ],
   "source": [
    "diff = (75.7 + 17.26*(3.1) - 1.7166*(21)) - (75.7 + 17.26*(2.1) - 1.7166*(26))\n",
    "print(\"attendance rate difference: {:.2f}%\".format(diff))"
   ]
  },
  {
   "cell_type": "markdown",
   "id": "43fd1750",
   "metadata": {},
   "source": [
    "# Question 4\n",
    "Use the data in CHARITY.DTA to answer the following questions:"
   ]
  },
  {
   "cell_type": "code",
   "execution_count": 17,
   "id": "a1b43a65",
   "metadata": {},
   "outputs": [
    {
     "data": {
      "text/html": [
       "<div>\n",
       "<style scoped>\n",
       "    .dataframe tbody tr th:only-of-type {\n",
       "        vertical-align: middle;\n",
       "    }\n",
       "\n",
       "    .dataframe tbody tr th {\n",
       "        vertical-align: top;\n",
       "    }\n",
       "\n",
       "    .dataframe thead th {\n",
       "        text-align: right;\n",
       "    }\n",
       "</style>\n",
       "<table border=\"1\" class=\"dataframe\">\n",
       "  <thead>\n",
       "    <tr style=\"text-align: right;\">\n",
       "      <th></th>\n",
       "      <th>respond</th>\n",
       "      <th>gift</th>\n",
       "      <th>resplast</th>\n",
       "      <th>weekslast</th>\n",
       "      <th>propresp</th>\n",
       "      <th>mailsyear</th>\n",
       "      <th>giftlast</th>\n",
       "      <th>avggift</th>\n",
       "    </tr>\n",
       "  </thead>\n",
       "  <tbody>\n",
       "    <tr>\n",
       "      <th>0</th>\n",
       "      <td>0</td>\n",
       "      <td>0</td>\n",
       "      <td>0</td>\n",
       "      <td>143.000000</td>\n",
       "      <td>0.3</td>\n",
       "      <td>2.5</td>\n",
       "      <td>10</td>\n",
       "      <td>10.0</td>\n",
       "    </tr>\n",
       "    <tr>\n",
       "      <th>1</th>\n",
       "      <td>0</td>\n",
       "      <td>0</td>\n",
       "      <td>0</td>\n",
       "      <td>65.428574</td>\n",
       "      <td>0.3</td>\n",
       "      <td>2.5</td>\n",
       "      <td>10</td>\n",
       "      <td>10.0</td>\n",
       "    </tr>\n",
       "    <tr>\n",
       "      <th>2</th>\n",
       "      <td>0</td>\n",
       "      <td>0</td>\n",
       "      <td>1</td>\n",
       "      <td>13.142858</td>\n",
       "      <td>0.3</td>\n",
       "      <td>2.5</td>\n",
       "      <td>10</td>\n",
       "      <td>10.0</td>\n",
       "    </tr>\n",
       "    <tr>\n",
       "      <th>3</th>\n",
       "      <td>0</td>\n",
       "      <td>0</td>\n",
       "      <td>0</td>\n",
       "      <td>120.142860</td>\n",
       "      <td>0.3</td>\n",
       "      <td>2.5</td>\n",
       "      <td>10</td>\n",
       "      <td>10.0</td>\n",
       "    </tr>\n",
       "    <tr>\n",
       "      <th>4</th>\n",
       "      <td>1</td>\n",
       "      <td>10</td>\n",
       "      <td>0</td>\n",
       "      <td>103.857140</td>\n",
       "      <td>0.2</td>\n",
       "      <td>2.5</td>\n",
       "      <td>10</td>\n",
       "      <td>10.0</td>\n",
       "    </tr>\n",
       "  </tbody>\n",
       "</table>\n",
       "</div>"
      ],
      "text/plain": [
       "   respond  gift  resplast   weekslast  propresp  mailsyear  giftlast  avggift\n",
       "0        0     0         0  143.000000       0.3        2.5        10     10.0\n",
       "1        0     0         0   65.428574       0.3        2.5        10     10.0\n",
       "2        0     0         1   13.142858       0.3        2.5        10     10.0\n",
       "3        0     0         0  120.142860       0.3        2.5        10     10.0\n",
       "4        1    10         0  103.857140       0.2        2.5        10     10.0"
      ]
     },
     "execution_count": 17,
     "metadata": {},
     "output_type": "execute_result"
    }
   ],
   "source": [
    "q4data = 'CHARITY.DTA'\n",
    "df = pd.read_stata(q4data)\n",
    "df.head()"
   ]
  },
  {
   "cell_type": "markdown",
   "id": "a1d7df0d",
   "metadata": {},
   "source": [
    "### (i) Estimate the regression where `gift` is the explained variable and `mailsyear`, `giftlast`, `propresp` are the explanatory variables. Report the OLS estimates, including the sample size and R-squared. How does the R-squared compare with that from the simple regression that omits `giftlast` and `propresp`?"
   ]
  },
  {
   "cell_type": "markdown",
   "id": "f62bcfef",
   "metadata": {},
   "source": [
    "#### MLR:"
   ]
  },
  {
   "cell_type": "code",
   "execution_count": 18,
   "id": "c393287b",
   "metadata": {},
   "outputs": [
    {
     "data": {
      "text/html": [
       "<table class=\"simpletable\">\n",
       "<caption>OLS Regression Results</caption>\n",
       "<tr>\n",
       "  <th>Dep. Variable:</th>          <td>gift</td>       <th>  R-squared:         </th> <td>   0.083</td> \n",
       "</tr>\n",
       "<tr>\n",
       "  <th>Model:</th>                   <td>OLS</td>       <th>  Adj. R-squared:    </th> <td>   0.083</td> \n",
       "</tr>\n",
       "<tr>\n",
       "  <th>Method:</th>             <td>Least Squares</td>  <th>  F-statistic:       </th> <td>   129.3</td> \n",
       "</tr>\n",
       "<tr>\n",
       "  <th>Date:</th>             <td>Thu, 14 Sep 2023</td> <th>  Prob (F-statistic):</th> <td>3.86e-80</td> \n",
       "</tr>\n",
       "<tr>\n",
       "  <th>Time:</th>                 <td>12:30:02</td>     <th>  Log-Likelihood:    </th> <td> -17446.</td> \n",
       "</tr>\n",
       "<tr>\n",
       "  <th>No. Observations:</th>      <td>  4268</td>      <th>  AIC:               </th> <td>3.490e+04</td>\n",
       "</tr>\n",
       "<tr>\n",
       "  <th>Df Residuals:</th>          <td>  4264</td>      <th>  BIC:               </th> <td>3.492e+04</td>\n",
       "</tr>\n",
       "<tr>\n",
       "  <th>Df Model:</th>              <td>     3</td>      <th>                     </th>     <td> </td>    \n",
       "</tr>\n",
       "<tr>\n",
       "  <th>Covariance Type:</th>      <td>nonrobust</td>    <th>                     </th>     <td> </td>    \n",
       "</tr>\n",
       "</table>\n",
       "<table class=\"simpletable\">\n",
       "<tr>\n",
       "      <td></td>         <th>coef</th>     <th>std err</th>      <th>t</th>      <th>P>|t|</th>  <th>[0.025</th>    <th>0.975]</th>  \n",
       "</tr>\n",
       "<tr>\n",
       "  <th>const</th>     <td>   -4.5515</td> <td>    0.803</td> <td>   -5.668</td> <td> 0.000</td> <td>   -6.126</td> <td>   -2.977</td>\n",
       "</tr>\n",
       "<tr>\n",
       "  <th>mailsyear</th> <td>    2.1663</td> <td>    0.332</td> <td>    6.526</td> <td> 0.000</td> <td>    1.516</td> <td>    2.817</td>\n",
       "</tr>\n",
       "<tr>\n",
       "  <th>giftlast</th>  <td>    0.0059</td> <td>    0.001</td> <td>    4.138</td> <td> 0.000</td> <td>    0.003</td> <td>    0.009</td>\n",
       "</tr>\n",
       "<tr>\n",
       "  <th>propresp</th>  <td>   15.3586</td> <td>    0.875</td> <td>   17.562</td> <td> 0.000</td> <td>   13.644</td> <td>   17.073</td>\n",
       "</tr>\n",
       "</table>\n",
       "<table class=\"simpletable\">\n",
       "<tr>\n",
       "  <th>Omnibus:</th>       <td>5103.126</td> <th>  Durbin-Watson:     </th>  <td>   1.667</td> \n",
       "</tr>\n",
       "<tr>\n",
       "  <th>Prob(Omnibus):</th>  <td> 0.000</td>  <th>  Jarque-Bera (JB):  </th> <td>941920.719</td>\n",
       "</tr>\n",
       "<tr>\n",
       "  <th>Skew:</th>           <td> 6.166</td>  <th>  Prob(JB):          </th>  <td>    0.00</td> \n",
       "</tr>\n",
       "<tr>\n",
       "  <th>Kurtosis:</th>       <td>74.726</td>  <th>  Cond. No.          </th>  <td>    721.</td> \n",
       "</tr>\n",
       "</table><br/><br/>Notes:<br/>[1] Standard Errors assume that the covariance matrix of the errors is correctly specified."
      ],
      "text/plain": [
       "<class 'statsmodels.iolib.summary.Summary'>\n",
       "\"\"\"\n",
       "                            OLS Regression Results                            \n",
       "==============================================================================\n",
       "Dep. Variable:                   gift   R-squared:                       0.083\n",
       "Model:                            OLS   Adj. R-squared:                  0.083\n",
       "Method:                 Least Squares   F-statistic:                     129.3\n",
       "Date:                Thu, 14 Sep 2023   Prob (F-statistic):           3.86e-80\n",
       "Time:                        12:30:02   Log-Likelihood:                -17446.\n",
       "No. Observations:                4268   AIC:                         3.490e+04\n",
       "Df Residuals:                    4264   BIC:                         3.492e+04\n",
       "Df Model:                           3                                         \n",
       "Covariance Type:            nonrobust                                         \n",
       "==============================================================================\n",
       "                 coef    std err          t      P>|t|      [0.025      0.975]\n",
       "------------------------------------------------------------------------------\n",
       "const         -4.5515      0.803     -5.668      0.000      -6.126      -2.977\n",
       "mailsyear      2.1663      0.332      6.526      0.000       1.516       2.817\n",
       "giftlast       0.0059      0.001      4.138      0.000       0.003       0.009\n",
       "propresp      15.3586      0.875     17.562      0.000      13.644      17.073\n",
       "==============================================================================\n",
       "Omnibus:                     5103.126   Durbin-Watson:                   1.667\n",
       "Prob(Omnibus):                  0.000   Jarque-Bera (JB):           941920.719\n",
       "Skew:                           6.166   Prob(JB):                         0.00\n",
       "Kurtosis:                      74.726   Cond. No.                         721.\n",
       "==============================================================================\n",
       "\n",
       "Notes:\n",
       "[1] Standard Errors assume that the covariance matrix of the errors is correctly specified.\n",
       "\"\"\""
      ]
     },
     "execution_count": 18,
     "metadata": {},
     "output_type": "execute_result"
    }
   ],
   "source": [
    "X = df[['mailsyear', 'giftlast', 'propresp']] # explanatory\n",
    "Y = df['gift'] # explained\n",
    "\n",
    "X = sm.add_constant(X) # constant\n",
    "\n",
    "model = sm.OLS(Y, X).fit() # fit model\n",
    "\n",
    "model.summary() # results"
   ]
  },
  {
   "cell_type": "markdown",
   "id": "ba45cbf4",
   "metadata": {},
   "source": [
    "#### SLR:"
   ]
  },
  {
   "cell_type": "code",
   "execution_count": 19,
   "id": "6e0393f8",
   "metadata": {},
   "outputs": [
    {
     "data": {
      "text/html": [
       "<table class=\"simpletable\">\n",
       "<caption>OLS Regression Results</caption>\n",
       "<tr>\n",
       "  <th>Dep. Variable:</th>          <td>gift</td>       <th>  R-squared:         </th> <td>   0.014</td> \n",
       "</tr>\n",
       "<tr>\n",
       "  <th>Model:</th>                   <td>OLS</td>       <th>  Adj. R-squared:    </th> <td>   0.014</td> \n",
       "</tr>\n",
       "<tr>\n",
       "  <th>Method:</th>             <td>Least Squares</td>  <th>  F-statistic:       </th> <td>   59.65</td> \n",
       "</tr>\n",
       "<tr>\n",
       "  <th>Date:</th>             <td>Thu, 14 Sep 2023</td> <th>  Prob (F-statistic):</th> <td>1.40e-14</td> \n",
       "</tr>\n",
       "<tr>\n",
       "  <th>Time:</th>                 <td>12:32:32</td>     <th>  Log-Likelihood:    </th> <td> -17602.</td> \n",
       "</tr>\n",
       "<tr>\n",
       "  <th>No. Observations:</th>      <td>  4268</td>      <th>  AIC:               </th> <td>3.521e+04</td>\n",
       "</tr>\n",
       "<tr>\n",
       "  <th>Df Residuals:</th>          <td>  4266</td>      <th>  BIC:               </th> <td>3.522e+04</td>\n",
       "</tr>\n",
       "<tr>\n",
       "  <th>Df Model:</th>              <td>     1</td>      <th>                     </th>     <td> </td>    \n",
       "</tr>\n",
       "<tr>\n",
       "  <th>Covariance Type:</th>      <td>nonrobust</td>    <th>                     </th>     <td> </td>    \n",
       "</tr>\n",
       "</table>\n",
       "<table class=\"simpletable\">\n",
       "<tr>\n",
       "      <td></td>         <th>coef</th>     <th>std err</th>      <th>t</th>      <th>P>|t|</th>  <th>[0.025</th>    <th>0.975]</th>  \n",
       "</tr>\n",
       "<tr>\n",
       "  <th>const</th>     <td>    2.0141</td> <td>    0.739</td> <td>    2.724</td> <td> 0.006</td> <td>    0.564</td> <td>    3.464</td>\n",
       "</tr>\n",
       "<tr>\n",
       "  <th>mailsyear</th> <td>    2.6495</td> <td>    0.343</td> <td>    7.723</td> <td> 0.000</td> <td>    1.977</td> <td>    3.322</td>\n",
       "</tr>\n",
       "</table>\n",
       "<table class=\"simpletable\">\n",
       "<tr>\n",
       "  <th>Omnibus:</th>       <td>4951.411</td> <th>  Durbin-Watson:     </th>  <td>   1.529</td> \n",
       "</tr>\n",
       "<tr>\n",
       "  <th>Prob(Omnibus):</th>  <td> 0.000</td>  <th>  Jarque-Bera (JB):  </th> <td>784986.187</td>\n",
       "</tr>\n",
       "<tr>\n",
       "  <th>Skew:</th>           <td> 5.889</td>  <th>  Prob(JB):          </th>  <td>    0.00</td> \n",
       "</tr>\n",
       "<tr>\n",
       "  <th>Kurtosis:</th>       <td>68.387</td>  <th>  Cond. No.          </th>  <td>    8.34</td> \n",
       "</tr>\n",
       "</table><br/><br/>Notes:<br/>[1] Standard Errors assume that the covariance matrix of the errors is correctly specified."
      ],
      "text/plain": [
       "<class 'statsmodels.iolib.summary.Summary'>\n",
       "\"\"\"\n",
       "                            OLS Regression Results                            \n",
       "==============================================================================\n",
       "Dep. Variable:                   gift   R-squared:                       0.014\n",
       "Model:                            OLS   Adj. R-squared:                  0.014\n",
       "Method:                 Least Squares   F-statistic:                     59.65\n",
       "Date:                Thu, 14 Sep 2023   Prob (F-statistic):           1.40e-14\n",
       "Time:                        12:32:32   Log-Likelihood:                -17602.\n",
       "No. Observations:                4268   AIC:                         3.521e+04\n",
       "Df Residuals:                    4266   BIC:                         3.522e+04\n",
       "Df Model:                           1                                         \n",
       "Covariance Type:            nonrobust                                         \n",
       "==============================================================================\n",
       "                 coef    std err          t      P>|t|      [0.025      0.975]\n",
       "------------------------------------------------------------------------------\n",
       "const          2.0141      0.739      2.724      0.006       0.564       3.464\n",
       "mailsyear      2.6495      0.343      7.723      0.000       1.977       3.322\n",
       "==============================================================================\n",
       "Omnibus:                     4951.411   Durbin-Watson:                   1.529\n",
       "Prob(Omnibus):                  0.000   Jarque-Bera (JB):           784986.187\n",
       "Skew:                           5.889   Prob(JB):                         0.00\n",
       "Kurtosis:                      68.387   Cond. No.                         8.34\n",
       "==============================================================================\n",
       "\n",
       "Notes:\n",
       "[1] Standard Errors assume that the covariance matrix of the errors is correctly specified.\n",
       "\"\"\""
      ]
     },
     "execution_count": 19,
     "metadata": {},
     "output_type": "execute_result"
    }
   ],
   "source": [
    "X = df['mailsyear'] # explanatory\n",
    "Y = df['gift'] # explained\n",
    "\n",
    "X = sm.add_constant(X) # constant\n",
    "\n",
    "model = sm.OLS(Y, X).fit() # fit model\n",
    "\n",
    "model.summary() # results"
   ]
  },
  {
   "cell_type": "markdown",
   "id": "368bfbec",
   "metadata": {},
   "source": [
    "MLR $R^2 = 0.083 = 8.3\\%$\n",
    "\n",
    "SLR $R^2 = 0.014 = 1.4\\%$\n",
    "\n",
    "This implies that the variance in the dependent variable explained by the independent variables is better explained in the MLR model.\n",
    "\n",
    "Overall, the variance in `gift` left mostly unexplained by `mailsyear`, `giftlast`, and `propresp`"
   ]
  },
  {
   "cell_type": "markdown",
   "id": "07bd29a4",
   "metadata": {},
   "source": [
    "### (ii) Interpret the coefficient on `mailsyear`. Is it bigger or smaller than the corresponding simple regression coefficient?"
   ]
  },
  {
   "cell_type": "markdown",
   "id": "4baa0d3b",
   "metadata": {},
   "source": [
    "Smaller"
   ]
  },
  {
   "cell_type": "markdown",
   "id": "d9dd19d6",
   "metadata": {},
   "source": [
    "### (iii) Interpret the coefficient on `propresp`. Be careful to notice the units of measurement of `propresp`."
   ]
  },
  {
   "cell_type": "markdown",
   "id": "ba5aa1a4",
   "metadata": {},
   "source": [
    "Holding other factors equal, $\\beta_3 = 15.3586$, implying for each percentage increase in  response rate (`propresp`), `gift` increases 15%"
   ]
  },
  {
   "cell_type": "markdown",
   "id": "ea4c85e2",
   "metadata": {},
   "source": [
    "### (iv) Now add the variable `avggift` to the equation. What happens to the estimated effect of `mailsyear`?"
   ]
  },
  {
   "cell_type": "code",
   "execution_count": 20,
   "id": "c200985f",
   "metadata": {},
   "outputs": [
    {
     "data": {
      "text/html": [
       "<table class=\"simpletable\">\n",
       "<caption>OLS Regression Results</caption>\n",
       "<tr>\n",
       "  <th>Dep. Variable:</th>          <td>gift</td>       <th>  R-squared:         </th> <td>   0.201</td> \n",
       "</tr>\n",
       "<tr>\n",
       "  <th>Model:</th>                   <td>OLS</td>       <th>  Adj. R-squared:    </th> <td>   0.200</td> \n",
       "</tr>\n",
       "<tr>\n",
       "  <th>Method:</th>             <td>Least Squares</td>  <th>  F-statistic:       </th> <td>   267.3</td> \n",
       "</tr>\n",
       "<tr>\n",
       "  <th>Date:</th>             <td>Thu, 14 Sep 2023</td> <th>  Prob (F-statistic):</th> <td>2.82e-205</td>\n",
       "</tr>\n",
       "<tr>\n",
       "  <th>Time:</th>                 <td>12:49:26</td>     <th>  Log-Likelihood:    </th> <td> -17154.</td> \n",
       "</tr>\n",
       "<tr>\n",
       "  <th>No. Observations:</th>      <td>  4268</td>      <th>  AIC:               </th> <td>3.432e+04</td>\n",
       "</tr>\n",
       "<tr>\n",
       "  <th>Df Residuals:</th>          <td>  4263</td>      <th>  BIC:               </th> <td>3.435e+04</td>\n",
       "</tr>\n",
       "<tr>\n",
       "  <th>Df Model:</th>              <td>     4</td>      <th>                     </th>     <td> </td>    \n",
       "</tr>\n",
       "<tr>\n",
       "  <th>Covariance Type:</th>      <td>nonrobust</td>    <th>                     </th>     <td> </td>    \n",
       "</tr>\n",
       "</table>\n",
       "<table class=\"simpletable\">\n",
       "<tr>\n",
       "      <td></td>         <th>coef</th>     <th>std err</th>      <th>t</th>      <th>P>|t|</th>  <th>[0.025</th>    <th>0.975]</th>  \n",
       "</tr>\n",
       "<tr>\n",
       "  <th>const</th>     <td>   -7.3278</td> <td>    0.758</td> <td>   -9.664</td> <td> 0.000</td> <td>   -8.814</td> <td>   -5.841</td>\n",
       "</tr>\n",
       "<tr>\n",
       "  <th>mailsyear</th> <td>    1.2012</td> <td>    0.312</td> <td>    3.845</td> <td> 0.000</td> <td>    0.589</td> <td>    1.814</td>\n",
       "</tr>\n",
       "<tr>\n",
       "  <th>giftlast</th>  <td>   -0.2609</td> <td>    0.011</td> <td>  -24.251</td> <td> 0.000</td> <td>   -0.282</td> <td>   -0.240</td>\n",
       "</tr>\n",
       "<tr>\n",
       "  <th>propresp</th>  <td>   16.2046</td> <td>    0.818</td> <td>   19.821</td> <td> 0.000</td> <td>   14.602</td> <td>   17.807</td>\n",
       "</tr>\n",
       "<tr>\n",
       "  <th>avggift</th>   <td>    0.5269</td> <td>    0.021</td> <td>   24.996</td> <td> 0.000</td> <td>    0.486</td> <td>    0.568</td>\n",
       "</tr>\n",
       "</table>\n",
       "<table class=\"simpletable\">\n",
       "<tr>\n",
       "  <th>Omnibus:</th>       <td>3922.109</td> <th>  Durbin-Watson:     </th>  <td>   1.787</td> \n",
       "</tr>\n",
       "<tr>\n",
       "  <th>Prob(Omnibus):</th>  <td> 0.000</td>  <th>  Jarque-Bera (JB):  </th> <td>698065.217</td>\n",
       "</tr>\n",
       "<tr>\n",
       "  <th>Skew:</th>           <td> 3.806</td>  <th>  Prob(JB):          </th>  <td>    0.00</td> \n",
       "</tr>\n",
       "<tr>\n",
       "  <th>Kurtosis:</th>       <td>65.189</td>  <th>  Cond. No.          </th>  <td>    814.</td> \n",
       "</tr>\n",
       "</table><br/><br/>Notes:<br/>[1] Standard Errors assume that the covariance matrix of the errors is correctly specified."
      ],
      "text/plain": [
       "<class 'statsmodels.iolib.summary.Summary'>\n",
       "\"\"\"\n",
       "                            OLS Regression Results                            \n",
       "==============================================================================\n",
       "Dep. Variable:                   gift   R-squared:                       0.201\n",
       "Model:                            OLS   Adj. R-squared:                  0.200\n",
       "Method:                 Least Squares   F-statistic:                     267.3\n",
       "Date:                Thu, 14 Sep 2023   Prob (F-statistic):          2.82e-205\n",
       "Time:                        12:49:26   Log-Likelihood:                -17154.\n",
       "No. Observations:                4268   AIC:                         3.432e+04\n",
       "Df Residuals:                    4263   BIC:                         3.435e+04\n",
       "Df Model:                           4                                         \n",
       "Covariance Type:            nonrobust                                         \n",
       "==============================================================================\n",
       "                 coef    std err          t      P>|t|      [0.025      0.975]\n",
       "------------------------------------------------------------------------------\n",
       "const         -7.3278      0.758     -9.664      0.000      -8.814      -5.841\n",
       "mailsyear      1.2012      0.312      3.845      0.000       0.589       1.814\n",
       "giftlast      -0.2609      0.011    -24.251      0.000      -0.282      -0.240\n",
       "propresp      16.2046      0.818     19.821      0.000      14.602      17.807\n",
       "avggift        0.5269      0.021     24.996      0.000       0.486       0.568\n",
       "==============================================================================\n",
       "Omnibus:                     3922.109   Durbin-Watson:                   1.787\n",
       "Prob(Omnibus):                  0.000   Jarque-Bera (JB):           698065.217\n",
       "Skew:                           3.806   Prob(JB):                         0.00\n",
       "Kurtosis:                      65.189   Cond. No.                         814.\n",
       "==============================================================================\n",
       "\n",
       "Notes:\n",
       "[1] Standard Errors assume that the covariance matrix of the errors is correctly specified.\n",
       "\"\"\""
      ]
     },
     "execution_count": 20,
     "metadata": {},
     "output_type": "execute_result"
    }
   ],
   "source": [
    "X = df[['mailsyear', 'giftlast', 'propresp','avggift']] # explanatory\n",
    "Y = df['gift'] # explained\n",
    "\n",
    "X = sm.add_constant(X) # constant\n",
    "\n",
    "model = sm.OLS(Y, X).fit() # fit model\n",
    "\n",
    "model.summary() # results"
   ]
  },
  {
   "cell_type": "markdown",
   "id": "2672e7a5",
   "metadata": {},
   "source": [
    "`mailsyear` decreases from 2.2 to 1.2, with the additional independent variable `avggift`.\n",
    "\n",
    "This reduces the effect of `mailsyear` on `gift`"
   ]
  },
  {
   "cell_type": "markdown",
   "id": "5825db4b",
   "metadata": {},
   "source": [
    "### (v) In the equation from part (iv), what has happened to the coefficient on `giftlast`? What do you think is happening?"
   ]
  },
  {
   "cell_type": "markdown",
   "id": "6a0e869e",
   "metadata": {},
   "source": [
    "`giftlast` decreases from 0.0059 to -0.2609.\n",
    "\n",
    "This could imply that there is some relationship between `giftlast` and `avggift`, such that `giftlast` showcases its true effect when `avggift` is included in the model."
   ]
  }
 ],
 "metadata": {
  "kernelspec": {
   "display_name": "Python 3 (ipykernel)",
   "language": "python",
   "name": "python3"
  },
  "language_info": {
   "codemirror_mode": {
    "name": "ipython",
    "version": 3
   },
   "file_extension": ".py",
   "mimetype": "text/x-python",
   "name": "python",
   "nbconvert_exporter": "python",
   "pygments_lexer": "ipython3",
   "version": "3.10.9"
  }
 },
 "nbformat": 4,
 "nbformat_minor": 5
}
