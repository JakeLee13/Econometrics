{
 "cells": [
  {
   "attachments": {
    "regression-analysis-diagram.svg": {
     "image/svg+xml": [
      "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"
     ]
    }
   },
   "cell_type": "markdown",
   "id": "e6f98e7c",
   "metadata": {},
   "source": [
    "# Problem Set 2: Simple Linear Regression Practice Problems\n",
    "### Jake Lee\n",
    "![regression-analysis-diagram.svg](attachment:regression-analysis-diagram.svg)\n",
    "\n",
    "---\n",
    " ## Import Libraries"
   ]
  },
  {
   "cell_type": "code",
   "execution_count": 1,
   "id": "50235041",
   "metadata": {},
   "outputs": [],
   "source": [
    "import pandas as pd\n",
    "from scipy import stats\n",
    "import matplotlib.pyplot as plt\n",
    "import statsmodels.api as sm"
   ]
  },
  {
   "cell_type": "markdown",
   "id": "a5ba8e50",
   "metadata": {},
   "source": [
    "# Question 1\n",
    "The data in 401K.DTA are a subset of data analyzed by Papke (1995) to study the relationship\n",
    "between participation in a 401(k) pension plan and the generosity of the plan. The variable `prate`\n",
    "is the percentage of eligible workers with an active account; this is the variable we would like to\n",
    "explain. The measure of generosity is the plan match rate, `mrate`. This variable gives the average amount the firm contributes to each workers's pan for each one dollar contribution by the worker. \n",
    "\n",
    "For example, if `mrate` = 0.50, then a one dollar contribution by the worker is matched by a 50 cents contrubution by the firm."
   ]
  },
  {
   "cell_type": "code",
   "execution_count": 2,
   "id": "c3aea528",
   "metadata": {},
   "outputs": [
    {
     "data": {
      "text/html": [
       "<div>\n",
       "<style scoped>\n",
       "    .dataframe tbody tr th:only-of-type {\n",
       "        vertical-align: middle;\n",
       "    }\n",
       "\n",
       "    .dataframe tbody tr th {\n",
       "        vertical-align: top;\n",
       "    }\n",
       "\n",
       "    .dataframe thead th {\n",
       "        text-align: right;\n",
       "    }\n",
       "</style>\n",
       "<table border=\"1\" class=\"dataframe\">\n",
       "  <thead>\n",
       "    <tr style=\"text-align: right;\">\n",
       "      <th></th>\n",
       "      <th>prate</th>\n",
       "      <th>mrate</th>\n",
       "      <th>totpart</th>\n",
       "      <th>totelg</th>\n",
       "      <th>age</th>\n",
       "      <th>totemp</th>\n",
       "      <th>sole</th>\n",
       "      <th>ltotemp</th>\n",
       "    </tr>\n",
       "  </thead>\n",
       "  <tbody>\n",
       "    <tr>\n",
       "      <th>0</th>\n",
       "      <td>26.100000</td>\n",
       "      <td>0.21</td>\n",
       "      <td>1653.0</td>\n",
       "      <td>6322.0</td>\n",
       "      <td>8</td>\n",
       "      <td>8709.0</td>\n",
       "      <td>0</td>\n",
       "      <td>9.072112</td>\n",
       "    </tr>\n",
       "    <tr>\n",
       "      <th>1</th>\n",
       "      <td>100.000000</td>\n",
       "      <td>1.42</td>\n",
       "      <td>262.0</td>\n",
       "      <td>262.0</td>\n",
       "      <td>6</td>\n",
       "      <td>315.0</td>\n",
       "      <td>1</td>\n",
       "      <td>5.752573</td>\n",
       "    </tr>\n",
       "    <tr>\n",
       "      <th>2</th>\n",
       "      <td>97.599998</td>\n",
       "      <td>0.91</td>\n",
       "      <td>166.0</td>\n",
       "      <td>170.0</td>\n",
       "      <td>10</td>\n",
       "      <td>275.0</td>\n",
       "      <td>1</td>\n",
       "      <td>5.616771</td>\n",
       "    </tr>\n",
       "    <tr>\n",
       "      <th>3</th>\n",
       "      <td>100.000000</td>\n",
       "      <td>0.42</td>\n",
       "      <td>257.0</td>\n",
       "      <td>257.0</td>\n",
       "      <td>7</td>\n",
       "      <td>500.0</td>\n",
       "      <td>0</td>\n",
       "      <td>6.214608</td>\n",
       "    </tr>\n",
       "    <tr>\n",
       "      <th>4</th>\n",
       "      <td>82.500000</td>\n",
       "      <td>0.53</td>\n",
       "      <td>591.0</td>\n",
       "      <td>716.0</td>\n",
       "      <td>28</td>\n",
       "      <td>933.0</td>\n",
       "      <td>1</td>\n",
       "      <td>6.838405</td>\n",
       "    </tr>\n",
       "  </tbody>\n",
       "</table>\n",
       "</div>"
      ],
      "text/plain": [
       "        prate  mrate  totpart  totelg  age  totemp  sole   ltotemp\n",
       "0   26.100000   0.21   1653.0  6322.0    8  8709.0     0  9.072112\n",
       "1  100.000000   1.42    262.0   262.0    6   315.0     1  5.752573\n",
       "2   97.599998   0.91    166.0   170.0   10   275.0     1  5.616771\n",
       "3  100.000000   0.42    257.0   257.0    7   500.0     0  6.214608\n",
       "4   82.500000   0.53    591.0   716.0   28   933.0     1  6.838405"
      ]
     },
     "execution_count": 2,
     "metadata": {},
     "output_type": "execute_result"
    }
   ],
   "source": [
    "q1data = '401K.DTA'\n",
    "df = pd.read_stata(q1data)\n",
    "df.head()"
   ]
  },
  {
   "cell_type": "markdown",
   "id": "76338b38",
   "metadata": {},
   "source": [
    "### i) Find the average participation rate and the average match rate in the sample of plans."
   ]
  },
  {
   "cell_type": "code",
   "execution_count": 3,
   "id": "59aec374",
   "metadata": {},
   "outputs": [
    {
     "name": "stdout",
     "output_type": "stream",
     "text": [
      "Average Participation Rate: 87.36%\n",
      "Average Plan Match Rate: 0.73 Cents\n"
     ]
    }
   ],
   "source": [
    "print(\"Average Participation Rate: {:.2f}%\".format(df['prate'].mean()))\n",
    "print(\"Average Plan Match Rate: {:.2f}\".format(df['mrate'].mean()), \"Cents\")"
   ]
  },
  {
   "cell_type": "markdown",
   "id": "f5f2667e",
   "metadata": {},
   "source": [
    "### ii) Estimate the simple regression equation where `prate` is the outcome variable and `mrate` is the explanatory variable. Report the results along with the sample size and R-squared."
   ]
  },
  {
   "cell_type": "code",
   "execution_count": 4,
   "id": "fa3e8983",
   "metadata": {},
   "outputs": [
    {
     "data": {
      "text/html": [
       "<table class=\"simpletable\">\n",
       "<caption>OLS Regression Results</caption>\n",
       "<tr>\n",
       "  <th>Dep. Variable:</th>          <td>prate</td>      <th>  R-squared:         </th> <td>   0.075</td> \n",
       "</tr>\n",
       "<tr>\n",
       "  <th>Model:</th>                   <td>OLS</td>       <th>  Adj. R-squared:    </th> <td>   0.074</td> \n",
       "</tr>\n",
       "<tr>\n",
       "  <th>Method:</th>             <td>Least Squares</td>  <th>  F-statistic:       </th> <td>   123.7</td> \n",
       "</tr>\n",
       "<tr>\n",
       "  <th>Date:</th>             <td>Wed, 13 Sep 2023</td> <th>  Prob (F-statistic):</th> <td>1.10e-27</td> \n",
       "</tr>\n",
       "<tr>\n",
       "  <th>Time:</th>                 <td>12:42:38</td>     <th>  Log-Likelihood:    </th> <td> -6437.0</td> \n",
       "</tr>\n",
       "<tr>\n",
       "  <th>No. Observations:</th>      <td>  1534</td>      <th>  AIC:               </th> <td>1.288e+04</td>\n",
       "</tr>\n",
       "<tr>\n",
       "  <th>Df Residuals:</th>          <td>  1532</td>      <th>  BIC:               </th> <td>1.289e+04</td>\n",
       "</tr>\n",
       "<tr>\n",
       "  <th>Df Model:</th>              <td>     1</td>      <th>                     </th>     <td> </td>    \n",
       "</tr>\n",
       "<tr>\n",
       "  <th>Covariance Type:</th>      <td>nonrobust</td>    <th>                     </th>     <td> </td>    \n",
       "</tr>\n",
       "</table>\n",
       "<table class=\"simpletable\">\n",
       "<tr>\n",
       "    <td></td>       <th>coef</th>     <th>std err</th>      <th>t</th>      <th>P>|t|</th>  <th>[0.025</th>    <th>0.975]</th>  \n",
       "</tr>\n",
       "<tr>\n",
       "  <th>const</th> <td>   83.0755</td> <td>    0.563</td> <td>  147.484</td> <td> 0.000</td> <td>   81.971</td> <td>   84.180</td>\n",
       "</tr>\n",
       "<tr>\n",
       "  <th>mrate</th> <td>    5.8611</td> <td>    0.527</td> <td>   11.121</td> <td> 0.000</td> <td>    4.827</td> <td>    6.895</td>\n",
       "</tr>\n",
       "</table>\n",
       "<table class=\"simpletable\">\n",
       "<tr>\n",
       "  <th>Omnibus:</th>       <td>394.767</td> <th>  Durbin-Watson:     </th> <td>   1.908</td> \n",
       "</tr>\n",
       "<tr>\n",
       "  <th>Prob(Omnibus):</th> <td> 0.000</td>  <th>  Jarque-Bera (JB):  </th> <td> 870.172</td> \n",
       "</tr>\n",
       "<tr>\n",
       "  <th>Skew:</th>          <td>-1.444</td>  <th>  Prob(JB):          </th> <td>1.11e-189</td>\n",
       "</tr>\n",
       "<tr>\n",
       "  <th>Kurtosis:</th>      <td> 5.296</td>  <th>  Cond. No.          </th> <td>    2.32</td> \n",
       "</tr>\n",
       "</table><br/><br/>Notes:<br/>[1] Standard Errors assume that the covariance matrix of the errors is correctly specified."
      ],
      "text/plain": [
       "<class 'statsmodels.iolib.summary.Summary'>\n",
       "\"\"\"\n",
       "                            OLS Regression Results                            \n",
       "==============================================================================\n",
       "Dep. Variable:                  prate   R-squared:                       0.075\n",
       "Model:                            OLS   Adj. R-squared:                  0.074\n",
       "Method:                 Least Squares   F-statistic:                     123.7\n",
       "Date:                Wed, 13 Sep 2023   Prob (F-statistic):           1.10e-27\n",
       "Time:                        12:42:38   Log-Likelihood:                -6437.0\n",
       "No. Observations:                1534   AIC:                         1.288e+04\n",
       "Df Residuals:                    1532   BIC:                         1.289e+04\n",
       "Df Model:                           1                                         \n",
       "Covariance Type:            nonrobust                                         \n",
       "==============================================================================\n",
       "                 coef    std err          t      P>|t|      [0.025      0.975]\n",
       "------------------------------------------------------------------------------\n",
       "const         83.0755      0.563    147.484      0.000      81.971      84.180\n",
       "mrate          5.8611      0.527     11.121      0.000       4.827       6.895\n",
       "==============================================================================\n",
       "Omnibus:                      394.767   Durbin-Watson:                   1.908\n",
       "Prob(Omnibus):                  0.000   Jarque-Bera (JB):              870.172\n",
       "Skew:                          -1.444   Prob(JB):                    1.11e-189\n",
       "Kurtosis:                       5.296   Cond. No.                         2.32\n",
       "==============================================================================\n",
       "\n",
       "Notes:\n",
       "[1] Standard Errors assume that the covariance matrix of the errors is correctly specified.\n",
       "\"\"\""
      ]
     },
     "execution_count": 4,
     "metadata": {},
     "output_type": "execute_result"
    }
   ],
   "source": [
    "# assign explanatory variable (independent variable)\n",
    "X = df['mrate']\n",
    "\n",
    "# assign outcome variable (dependent variable)\n",
    "Y = df['prate']\n",
    "\n",
    "# add a constant (intercept) to the independent variable\n",
    "X = sm.add_constant(X)\n",
    "\n",
    "# fit the OLS regression model\n",
    "model = sm.OLS(Y, X).fit()\n",
    "\n",
    "# regression summary\n",
    "model.summary()"
   ]
  },
  {
   "cell_type": "markdown",
   "id": "2b9163e9",
   "metadata": {},
   "source": [
    "Sample size (No. Observations) = 1534\n",
    "\n",
    "R-squared = 0.075"
   ]
  },
  {
   "cell_type": "markdown",
   "id": "11732e85",
   "metadata": {},
   "source": [
    "### iii) Interpret the intercept in your equation. Interperet the coefficient on `mrate`."
   ]
  },
  {
   "cell_type": "markdown",
   "id": "89075fc6",
   "metadata": {},
   "source": [
    "The Intercept or Constant is shown at the intersection of coef and const above. It represents the estimated value of `prate` (dependent variable) when `mrate` (independent variable) is held constant. This is the same as $\\beta_0$.\n",
    "\n",
    "The coefficient on `mrate` represents the estimated change in the `prate` for a one-unit change in `mrate` while holding all else constant. This is the same as $\\beta_1$."
   ]
  },
  {
   "cell_type": "code",
   "execution_count": 5,
   "id": "d071e2a7",
   "metadata": {},
   "outputs": [
    {
     "data": {
      "image/png": "[encoded data removed]",
      "text/plain": [
       "<Figure size 640x480 with 1 Axes>"
      ]
     },
     "metadata": {},
     "output_type": "display_data"
    }
   ],
   "source": [
    "# plot model\n",
    "x = df['mrate']\n",
    "y = df['prate']\n",
    "\n",
    "slope, intercept, r, p, std_err = stats.linregress(x, y)\n",
    "\n",
    "def myfunc(x):\n",
    "  return slope * x + intercept\n",
    "\n",
    "mymodel = list(map(myfunc, x))\n",
    "\n",
    "plt.scatter(x, y, s=10)\n",
    "plt.plot(x, mymodel, color = 'red')\n",
    "plt.xlabel('mrate ($)')\n",
    "plt.ylabel('prate (%)')\n",
    "plt.show()"
   ]
  },
  {
   "cell_type": "markdown",
   "id": "209e7b7b",
   "metadata": {},
   "source": [
    "### iv) Find the predicted prate when `mrate` = 3.5. Is this a reasonable prediction? Explain what is happening here."
   ]
  },
  {
   "cell_type": "markdown",
   "id": "3efd011e",
   "metadata": {},
   "source": [
    "From the graph above, we can see that at `mrate` = 3.5, the `prate` is 100 percent. If we were to estimate using our regression, it would obviously differ and would not be a reasonable prediction."
   ]
  },
  {
   "cell_type": "markdown",
   "id": "2bfc20a4",
   "metadata": {},
   "source": [
    "### v) How much of the variation in prate is explained by mrate? Is this a lot in your opinion?"
   ]
  },
  {
   "cell_type": "markdown",
   "id": "0b054486",
   "metadata": {},
   "source": [
    "From our OLS Results above, the variation is explained by $R^2 = 0.075$ and implies that there is a weak relationship between `prate` and `mrate`. It also implies the following: \n",
    "   - limited predictive power\n",
    "   - low explained variability\n",
    "   - limitations of the model (see where regression crosses prate = 100)\n",
    "   - potential other factors having a greater influence than mrate"
   ]
  },
  {
   "cell_type": "markdown",
   "id": "960de3f2",
   "metadata": {},
   "source": [
    "---"
   ]
  },
  {
   "cell_type": "markdown",
   "id": "d9563411",
   "metadata": {},
   "source": [
    "# Question 2"
   ]
  },
  {
   "cell_type": "markdown",
   "id": "3164d7a1",
   "metadata": {},
   "source": [
    "The data set in CEOSAL2.DTA contains information on chief executive officers for U.S.\n",
    "corporations. The variable `salary` is annual compensation, in thousands of dollars, and `ceoten` is\n",
    "prior number of years as company CEO"
   ]
  },
  {
   "cell_type": "code",
   "execution_count": 6,
   "id": "b032d3c3",
   "metadata": {},
   "outputs": [
    {
     "data": {
      "text/html": [
       "<div>\n",
       "<style scoped>\n",
       "    .dataframe tbody tr th:only-of-type {\n",
       "        vertical-align: middle;\n",
       "    }\n",
       "\n",
       "    .dataframe tbody tr th {\n",
       "        vertical-align: top;\n",
       "    }\n",
       "\n",
       "    .dataframe thead th {\n",
       "        text-align: right;\n",
       "    }\n",
       "</style>\n",
       "<table border=\"1\" class=\"dataframe\">\n",
       "  <thead>\n",
       "    <tr style=\"text-align: right;\">\n",
       "      <th></th>\n",
       "      <th>salary</th>\n",
       "      <th>age</th>\n",
       "      <th>college</th>\n",
       "      <th>grad</th>\n",
       "      <th>comten</th>\n",
       "      <th>ceoten</th>\n",
       "      <th>sales</th>\n",
       "      <th>profits</th>\n",
       "      <th>mktval</th>\n",
       "      <th>lsalary</th>\n",
       "      <th>lsales</th>\n",
       "      <th>lmktval</th>\n",
       "      <th>comtensq</th>\n",
       "      <th>ceotensq</th>\n",
       "      <th>profmarg</th>\n",
       "    </tr>\n",
       "  </thead>\n",
       "  <tbody>\n",
       "    <tr>\n",
       "      <th>0</th>\n",
       "      <td>1161</td>\n",
       "      <td>49</td>\n",
       "      <td>1</td>\n",
       "      <td>1</td>\n",
       "      <td>9</td>\n",
       "      <td>2</td>\n",
       "      <td>6200.0</td>\n",
       "      <td>966</td>\n",
       "      <td>23200.0</td>\n",
       "      <td>7.057037</td>\n",
       "      <td>8.732305</td>\n",
       "      <td>10.051908</td>\n",
       "      <td>81</td>\n",
       "      <td>4</td>\n",
       "      <td>15.580646</td>\n",
       "    </tr>\n",
       "    <tr>\n",
       "      <th>1</th>\n",
       "      <td>600</td>\n",
       "      <td>43</td>\n",
       "      <td>1</td>\n",
       "      <td>1</td>\n",
       "      <td>10</td>\n",
       "      <td>10</td>\n",
       "      <td>283.0</td>\n",
       "      <td>48</td>\n",
       "      <td>1100.0</td>\n",
       "      <td>6.396930</td>\n",
       "      <td>5.645447</td>\n",
       "      <td>7.003066</td>\n",
       "      <td>100</td>\n",
       "      <td>100</td>\n",
       "      <td>16.961130</td>\n",
       "    </tr>\n",
       "    <tr>\n",
       "      <th>2</th>\n",
       "      <td>379</td>\n",
       "      <td>51</td>\n",
       "      <td>1</td>\n",
       "      <td>1</td>\n",
       "      <td>9</td>\n",
       "      <td>3</td>\n",
       "      <td>169.0</td>\n",
       "      <td>40</td>\n",
       "      <td>1100.0</td>\n",
       "      <td>5.937536</td>\n",
       "      <td>5.129899</td>\n",
       "      <td>7.003066</td>\n",
       "      <td>81</td>\n",
       "      <td>9</td>\n",
       "      <td>23.668638</td>\n",
       "    </tr>\n",
       "    <tr>\n",
       "      <th>3</th>\n",
       "      <td>651</td>\n",
       "      <td>55</td>\n",
       "      <td>1</td>\n",
       "      <td>0</td>\n",
       "      <td>22</td>\n",
       "      <td>22</td>\n",
       "      <td>1100.0</td>\n",
       "      <td>-54</td>\n",
       "      <td>1000.0</td>\n",
       "      <td>6.478509</td>\n",
       "      <td>7.003066</td>\n",
       "      <td>6.907755</td>\n",
       "      <td>484</td>\n",
       "      <td>484</td>\n",
       "      <td>-4.909091</td>\n",
       "    </tr>\n",
       "    <tr>\n",
       "      <th>4</th>\n",
       "      <td>497</td>\n",
       "      <td>44</td>\n",
       "      <td>1</td>\n",
       "      <td>1</td>\n",
       "      <td>8</td>\n",
       "      <td>6</td>\n",
       "      <td>351.0</td>\n",
       "      <td>28</td>\n",
       "      <td>387.0</td>\n",
       "      <td>6.208590</td>\n",
       "      <td>5.860786</td>\n",
       "      <td>5.958425</td>\n",
       "      <td>64</td>\n",
       "      <td>36</td>\n",
       "      <td>7.977208</td>\n",
       "    </tr>\n",
       "  </tbody>\n",
       "</table>\n",
       "</div>"
      ],
      "text/plain": [
       "   salary  age  college  grad  comten  ceoten   sales  profits   mktval  \\\n",
       "0    1161   49        1     1       9       2  6200.0      966  23200.0   \n",
       "1     600   43        1     1      10      10   283.0       48   1100.0   \n",
       "2     379   51        1     1       9       3   169.0       40   1100.0   \n",
       "3     651   55        1     0      22      22  1100.0      -54   1000.0   \n",
       "4     497   44        1     1       8       6   351.0       28    387.0   \n",
       "\n",
       "    lsalary    lsales    lmktval  comtensq  ceotensq   profmarg  \n",
       "0  7.057037  8.732305  10.051908        81         4  15.580646  \n",
       "1  6.396930  5.645447   7.003066       100       100  16.961130  \n",
       "2  5.937536  5.129899   7.003066        81         9  23.668638  \n",
       "3  6.478509  7.003066   6.907755       484       484  -4.909091  \n",
       "4  6.208590  5.860786   5.958425        64        36   7.977208  "
      ]
     },
     "execution_count": 6,
     "metadata": {},
     "output_type": "execute_result"
    }
   ],
   "source": [
    "q2data = 'CEOSAL2.DTA'\n",
    "df = pd.read_stata(q2data)\n",
    "df.head()"
   ]
  },
  {
   "cell_type": "markdown",
   "id": "3123f871",
   "metadata": {},
   "source": [
    "### i) Find the average salary and the average tenure in the sample.\n"
   ]
  },
  {
   "cell_type": "code",
   "execution_count": 7,
   "id": "7f3c5cdb",
   "metadata": {},
   "outputs": [
    {
     "name": "stdout",
     "output_type": "stream",
     "text": [
      "Average Salary: $865864.41\n",
      "Average Tenure: 7.95 Years\n"
     ]
    }
   ],
   "source": [
    "print(f\"Average Salary: ${(df['salary'].mean())*1000:.2f}\")\n",
    "print(f\"Average Tenure: {df['ceoten'].mean():.2f}\", 'Years')"
   ]
  },
  {
   "cell_type": "markdown",
   "id": "0c289c05",
   "metadata": {},
   "source": [
    "### ii) How many CEOs are in their first year as CEO (that is, ceoten = 0)? What is the longest tenure as a CEO?"
   ]
  },
  {
   "cell_type": "code",
   "execution_count": 8,
   "id": "9e243503",
   "metadata": {},
   "outputs": [
    {
     "name": "stdout",
     "output_type": "stream",
     "text": [
      "Number of CEOs in their First Year: 177\n",
      "Longest tenure as a CEO: 37\n"
     ]
    }
   ],
   "source": [
    "print(\"Number of CEOs in their First Year:\",(df['ceoten'] == 0).count())\n",
    "print(\"Longest tenure as a CEO:\", df['ceoten'].max())"
   ]
  },
  {
   "cell_type": "markdown",
   "id": "01f84c33",
   "metadata": {},
   "source": [
    "### (iii) Estimate the simple regression model where log(salary) = `lsalary` is the outcome variable and `ceoten` is the explained variable. Report your results. What is the (approximate) predicted percentage increase in salary given one more year as a CEO"
   ]
  },
  {
   "cell_type": "code",
   "execution_count": 9,
   "id": "9e8ab4cc",
   "metadata": {},
   "outputs": [
    {
     "name": "stdout",
     "output_type": "stream",
     "text": [
      "                            OLS Regression Results                            \n",
      "==============================================================================\n",
      "Dep. Variable:                lsalary   R-squared:                       0.013\n",
      "Model:                            OLS   Adj. R-squared:                  0.008\n",
      "Method:                 Least Squares   F-statistic:                     2.334\n",
      "Date:                Wed, 13 Sep 2023   Prob (F-statistic):              0.128\n",
      "Time:                        12:42:38   Log-Likelihood:                -160.84\n",
      "No. Observations:                 177   AIC:                             325.7\n",
      "Df Residuals:                     175   BIC:                             332.0\n",
      "Df Model:                           1                                         \n",
      "Covariance Type:            nonrobust                                         \n",
      "==============================================================================\n",
      "                 coef    std err          t      P>|t|      [0.025      0.975]\n",
      "------------------------------------------------------------------------------\n",
      "const          6.5055      0.068     95.682      0.000       6.371       6.640\n",
      "ceoten         0.0097      0.006      1.528      0.128      -0.003       0.022\n",
      "==============================================================================\n",
      "Omnibus:                        3.858   Durbin-Watson:                   2.084\n",
      "Prob(Omnibus):                  0.145   Jarque-Bera (JB):                3.907\n",
      "Skew:                          -0.189   Prob(JB):                        0.142\n",
      "Kurtosis:                       3.622   Cond. No.                         16.1\n",
      "==============================================================================\n",
      "\n",
      "Notes:\n",
      "[1] Standard Errors assume that the covariance matrix of the errors is correctly specified.\n"
     ]
    }
   ],
   "source": [
    "X = df['ceoten'] # independent var\n",
    "Y = df['lsalary'] # dependent var\n",
    "\n",
    "# add a intercept to independent variable\n",
    "X = sm.add_constant(X)\n",
    "\n",
    "# fit model\n",
    "model = sm.OLS(Y, X).fit()\n",
    "\n",
    "# regression summary\n",
    "print(model.summary())"
   ]
  },
  {
   "cell_type": "markdown",
   "id": "7fe5336b",
   "metadata": {},
   "source": [
    "An additional year of ceo tenure increases the ceo salary by .97% ($\\beta_1 * 100$ for\n",
    "a log-level model) on average."
   ]
  },
  {
   "cell_type": "markdown",
   "id": "b221bbbd",
   "metadata": {},
   "source": [
    "---"
   ]
  },
  {
   "cell_type": "markdown",
   "id": "e5684049",
   "metadata": {},
   "source": [
    "# Question 3"
   ]
  },
  {
   "cell_type": "markdown",
   "id": "092339e6",
   "metadata": {},
   "source": [
    "For the population of firms in the chemical industry, let `rd` denote annual expenditures on research\n",
    "and development, and let `sales` denote annual sales (both are in millions of dollars)"
   ]
  },
  {
   "cell_type": "markdown",
   "id": "98cf5bcd",
   "metadata": {},
   "source": [
    "### (i) Write down a simple regression model that implies a constant elasticity between rd and sales. Which parameter is the elasticity?"
   ]
  },
  {
   "cell_type": "markdown",
   "id": "b92c25c5",
   "metadata": {},
   "source": [
    "$\\ln(rd)$ = $\\beta_0 + \\beta_1\n",
    "ln(sales) + \\epsilon$  , where $\\beta_1$ is the elasticity measure"
   ]
  },
  {
   "cell_type": "markdown",
   "id": "bc39efa2",
   "metadata": {},
   "source": [
    "### (ii) Now, estimate the model using the data in RDCHEM.DTA. What is the estimated elasticity of `lrd` with respect to `lsales`? Explain in words what this elasticity means."
   ]
  },
  {
   "cell_type": "code",
   "execution_count": 10,
   "id": "08f5c67c",
   "metadata": {},
   "outputs": [
    {
     "data": {
      "text/html": [
       "<div>\n",
       "<style scoped>\n",
       "    .dataframe tbody tr th:only-of-type {\n",
       "        vertical-align: middle;\n",
       "    }\n",
       "\n",
       "    .dataframe tbody tr th {\n",
       "        vertical-align: top;\n",
       "    }\n",
       "\n",
       "    .dataframe thead th {\n",
       "        text-align: right;\n",
       "    }\n",
       "</style>\n",
       "<table border=\"1\" class=\"dataframe\">\n",
       "  <thead>\n",
       "    <tr style=\"text-align: right;\">\n",
       "      <th></th>\n",
       "      <th>rd</th>\n",
       "      <th>sales</th>\n",
       "      <th>profits</th>\n",
       "      <th>rdintens</th>\n",
       "      <th>profmarg</th>\n",
       "      <th>salessq</th>\n",
       "      <th>lsales</th>\n",
       "      <th>lrd</th>\n",
       "    </tr>\n",
       "  </thead>\n",
       "  <tbody>\n",
       "    <tr>\n",
       "      <th>0</th>\n",
       "      <td>430.600006</td>\n",
       "      <td>4570.200195</td>\n",
       "      <td>186.899994</td>\n",
       "      <td>9.421906</td>\n",
       "      <td>4.089536</td>\n",
       "      <td>2.088673e+07</td>\n",
       "      <td>8.427312</td>\n",
       "      <td>6.065180</td>\n",
       "    </tr>\n",
       "    <tr>\n",
       "      <th>1</th>\n",
       "      <td>59.000000</td>\n",
       "      <td>2830.000000</td>\n",
       "      <td>467.000000</td>\n",
       "      <td>2.084806</td>\n",
       "      <td>16.501766</td>\n",
       "      <td>8.008900e+06</td>\n",
       "      <td>7.948032</td>\n",
       "      <td>4.077538</td>\n",
       "    </tr>\n",
       "    <tr>\n",
       "      <th>2</th>\n",
       "      <td>23.500000</td>\n",
       "      <td>596.799988</td>\n",
       "      <td>107.400002</td>\n",
       "      <td>3.937668</td>\n",
       "      <td>17.995979</td>\n",
       "      <td>3.561702e+05</td>\n",
       "      <td>6.391582</td>\n",
       "      <td>3.157000</td>\n",
       "    </tr>\n",
       "    <tr>\n",
       "      <th>3</th>\n",
       "      <td>3.500000</td>\n",
       "      <td>133.600006</td>\n",
       "      <td>-4.300000</td>\n",
       "      <td>2.619760</td>\n",
       "      <td>-3.218563</td>\n",
       "      <td>1.784896e+04</td>\n",
       "      <td>4.894850</td>\n",
       "      <td>1.252763</td>\n",
       "    </tr>\n",
       "    <tr>\n",
       "      <th>4</th>\n",
       "      <td>1.700000</td>\n",
       "      <td>42.000000</td>\n",
       "      <td>8.000000</td>\n",
       "      <td>4.047619</td>\n",
       "      <td>19.047619</td>\n",
       "      <td>1.764000e+03</td>\n",
       "      <td>3.737670</td>\n",
       "      <td>0.530628</td>\n",
       "    </tr>\n",
       "  </tbody>\n",
       "</table>\n",
       "</div>"
      ],
      "text/plain": [
       "           rd        sales     profits  rdintens   profmarg       salessq  \\\n",
       "0  430.600006  4570.200195  186.899994  9.421906   4.089536  2.088673e+07   \n",
       "1   59.000000  2830.000000  467.000000  2.084806  16.501766  8.008900e+06   \n",
       "2   23.500000   596.799988  107.400002  3.937668  17.995979  3.561702e+05   \n",
       "3    3.500000   133.600006   -4.300000  2.619760  -3.218563  1.784896e+04   \n",
       "4    1.700000    42.000000    8.000000  4.047619  19.047619  1.764000e+03   \n",
       "\n",
       "     lsales       lrd  \n",
       "0  8.427312  6.065180  \n",
       "1  7.948032  4.077538  \n",
       "2  6.391582  3.157000  \n",
       "3  4.894850  1.252763  \n",
       "4  3.737670  0.530628  "
      ]
     },
     "execution_count": 10,
     "metadata": {},
     "output_type": "execute_result"
    }
   ],
   "source": [
    "data = 'RDCHEM.DTA'\n",
    "df = pd.read_stata(data)\n",
    "df.head()"
   ]
  },
  {
   "cell_type": "code",
   "execution_count": 11,
   "id": "b80d6af3",
   "metadata": {},
   "outputs": [
    {
     "name": "stdout",
     "output_type": "stream",
     "text": [
      "                            OLS Regression Results                            \n",
      "==============================================================================\n",
      "Dep. Variable:                    lrd   R-squared:                       0.910\n",
      "Model:                            OLS   Adj. R-squared:                  0.907\n",
      "Method:                 Least Squares   F-statistic:                     302.7\n",
      "Date:                Wed, 13 Sep 2023   Prob (F-statistic):           3.20e-17\n",
      "Time:                        12:42:38   Log-Likelihood:                -24.021\n",
      "No. Observations:                  32   AIC:                             52.04\n",
      "Df Residuals:                      30   BIC:                             54.97\n",
      "Df Model:                           1                                         \n",
      "Covariance Type:            nonrobust                                         \n",
      "==============================================================================\n",
      "                 coef    std err          t      P>|t|      [0.025      0.975]\n",
      "------------------------------------------------------------------------------\n",
      "const         -4.1047      0.453     -9.066      0.000      -5.029      -3.180\n",
      "lsales         1.0757      0.062     17.399      0.000       0.949       1.202\n",
      "==============================================================================\n",
      "Omnibus:                        1.407   Durbin-Watson:                   1.847\n",
      "Prob(Omnibus):                  0.495   Jarque-Bera (JB):                1.025\n",
      "Skew:                           0.139   Prob(JB):                        0.599\n",
      "Kurtosis:                       2.168   Cond. No.                         36.1\n",
      "==============================================================================\n",
      "\n",
      "Notes:\n",
      "[1] Standard Errors assume that the covariance matrix of the errors is correctly specified.\n"
     ]
    }
   ],
   "source": [
    "X = df['lsales'] # independent var\n",
    "Y = df['lrd'] # dependent var\n",
    "\n",
    "# add a intercept to independent variable\n",
    "X = sm.add_constant(X)\n",
    "\n",
    "# fit model\n",
    "model = sm.OLS(Y, X).fit()\n",
    "\n",
    "# regression summary\n",
    "print(model.summary())"
   ]
  },
  {
   "cell_type": "markdown",
   "id": "d7e05223",
   "metadata": {},
   "source": [
    "From above, we can see that the elasticity is about 1.08 ($\\beta_1 = 1.08$). This implies that a 1 percent increase in is sales yields a 1.08 percent increase in r&d expenditure on average."
   ]
  },
  {
   "cell_type": "markdown",
   "id": "d87a0c74",
   "metadata": {},
   "source": [
    "---"
   ]
  },
  {
   "cell_type": "markdown",
   "id": "a06f0170",
   "metadata": {},
   "source": [
    "# Question 4"
   ]
  },
  {
   "cell_type": "markdown",
   "id": "2a7fa4f8",
   "metadata": {},
   "source": [
    "Use the data in MEAP93.DTA that contains data on student performance and school attributes.\n",
    "We want to explore the relationship between the math pass rate `math10` and spending per student\n",
    "`expend`."
   ]
  },
  {
   "cell_type": "code",
   "execution_count": 12,
   "id": "c85bd7bc",
   "metadata": {},
   "outputs": [
    {
     "data": {
      "text/html": [
       "<div>\n",
       "<style scoped>\n",
       "    .dataframe tbody tr th:only-of-type {\n",
       "        vertical-align: middle;\n",
       "    }\n",
       "\n",
       "    .dataframe tbody tr th {\n",
       "        vertical-align: top;\n",
       "    }\n",
       "\n",
       "    .dataframe thead th {\n",
       "        text-align: right;\n",
       "    }\n",
       "</style>\n",
       "<table border=\"1\" class=\"dataframe\">\n",
       "  <thead>\n",
       "    <tr style=\"text-align: right;\">\n",
       "      <th></th>\n",
       "      <th>lnchprg</th>\n",
       "      <th>enroll</th>\n",
       "      <th>staff</th>\n",
       "      <th>expend</th>\n",
       "      <th>salary</th>\n",
       "      <th>benefits</th>\n",
       "      <th>droprate</th>\n",
       "      <th>gradrate</th>\n",
       "      <th>math10</th>\n",
       "      <th>sci11</th>\n",
       "      <th>totcomp</th>\n",
       "      <th>ltotcomp</th>\n",
       "      <th>lexpend</th>\n",
       "      <th>lenroll</th>\n",
       "      <th>lstaff</th>\n",
       "      <th>bensal</th>\n",
       "      <th>lsalary</th>\n",
       "    </tr>\n",
       "  </thead>\n",
       "  <tbody>\n",
       "    <tr>\n",
       "      <th>0</th>\n",
       "      <td>1.4</td>\n",
       "      <td>1862</td>\n",
       "      <td>112.599998</td>\n",
       "      <td>5765</td>\n",
       "      <td>37498.0</td>\n",
       "      <td>7420</td>\n",
       "      <td>2.9</td>\n",
       "      <td>89.199997</td>\n",
       "      <td>56.400002</td>\n",
       "      <td>67.900002</td>\n",
       "      <td>44918.0</td>\n",
       "      <td>10.712594</td>\n",
       "      <td>8.659560</td>\n",
       "      <td>7.529407</td>\n",
       "      <td>4.723842</td>\n",
       "      <td>0.197877</td>\n",
       "      <td>10.532043</td>\n",
       "    </tr>\n",
       "    <tr>\n",
       "      <th>1</th>\n",
       "      <td>2.3</td>\n",
       "      <td>11355</td>\n",
       "      <td>101.199997</td>\n",
       "      <td>6601</td>\n",
       "      <td>48722.0</td>\n",
       "      <td>10370</td>\n",
       "      <td>1.3</td>\n",
       "      <td>91.400002</td>\n",
       "      <td>42.700001</td>\n",
       "      <td>65.300003</td>\n",
       "      <td>59092.0</td>\n",
       "      <td>10.986851</td>\n",
       "      <td>8.794976</td>\n",
       "      <td>9.337414</td>\n",
       "      <td>4.617099</td>\n",
       "      <td>0.212840</td>\n",
       "      <td>10.793886</td>\n",
       "    </tr>\n",
       "    <tr>\n",
       "      <th>2</th>\n",
       "      <td>2.7</td>\n",
       "      <td>7685</td>\n",
       "      <td>114.000000</td>\n",
       "      <td>6834</td>\n",
       "      <td>44541.0</td>\n",
       "      <td>7313</td>\n",
       "      <td>3.5</td>\n",
       "      <td>91.400002</td>\n",
       "      <td>43.799999</td>\n",
       "      <td>54.299999</td>\n",
       "      <td>51854.0</td>\n",
       "      <td>10.856188</td>\n",
       "      <td>8.829665</td>\n",
       "      <td>8.947025</td>\n",
       "      <td>4.736198</td>\n",
       "      <td>0.164186</td>\n",
       "      <td>10.704165</td>\n",
       "    </tr>\n",
       "    <tr>\n",
       "      <th>3</th>\n",
       "      <td>3.4</td>\n",
       "      <td>1148</td>\n",
       "      <td>85.400002</td>\n",
       "      <td>3586</td>\n",
       "      <td>31566.0</td>\n",
       "      <td>5989</td>\n",
       "      <td>3.6</td>\n",
       "      <td>86.599998</td>\n",
       "      <td>25.299999</td>\n",
       "      <td>60.000000</td>\n",
       "      <td>37555.0</td>\n",
       "      <td>10.533562</td>\n",
       "      <td>8.184793</td>\n",
       "      <td>7.045776</td>\n",
       "      <td>4.447346</td>\n",
       "      <td>0.189729</td>\n",
       "      <td>10.359836</td>\n",
       "    </tr>\n",
       "    <tr>\n",
       "      <th>4</th>\n",
       "      <td>3.4</td>\n",
       "      <td>1572</td>\n",
       "      <td>96.099998</td>\n",
       "      <td>3847</td>\n",
       "      <td>29781.0</td>\n",
       "      <td>5545</td>\n",
       "      <td>0.0</td>\n",
       "      <td>100.000000</td>\n",
       "      <td>15.300000</td>\n",
       "      <td>65.800003</td>\n",
       "      <td>35326.0</td>\n",
       "      <td>10.472375</td>\n",
       "      <td>8.255049</td>\n",
       "      <td>7.360104</td>\n",
       "      <td>4.565389</td>\n",
       "      <td>0.186193</td>\n",
       "      <td>10.301626</td>\n",
       "    </tr>\n",
       "  </tbody>\n",
       "</table>\n",
       "</div>"
      ],
      "text/plain": [
       "   lnchprg  enroll       staff  expend   salary  benefits  droprate  \\\n",
       "0      1.4    1862  112.599998    5765  37498.0      7420       2.9   \n",
       "1      2.3   11355  101.199997    6601  48722.0     10370       1.3   \n",
       "2      2.7    7685  114.000000    6834  44541.0      7313       3.5   \n",
       "3      3.4    1148   85.400002    3586  31566.0      5989       3.6   \n",
       "4      3.4    1572   96.099998    3847  29781.0      5545       0.0   \n",
       "\n",
       "     gradrate     math10      sci11  totcomp   ltotcomp   lexpend   lenroll  \\\n",
       "0   89.199997  56.400002  67.900002  44918.0  10.712594  8.659560  7.529407   \n",
       "1   91.400002  42.700001  65.300003  59092.0  10.986851  8.794976  9.337414   \n",
       "2   91.400002  43.799999  54.299999  51854.0  10.856188  8.829665  8.947025   \n",
       "3   86.599998  25.299999  60.000000  37555.0  10.533562  8.184793  7.045776   \n",
       "4  100.000000  15.300000  65.800003  35326.0  10.472375  8.255049  7.360104   \n",
       "\n",
       "     lstaff    bensal    lsalary  \n",
       "0  4.723842  0.197877  10.532043  \n",
       "1  4.617099  0.212840  10.793886  \n",
       "2  4.736198  0.164186  10.704165  \n",
       "3  4.447346  0.189729  10.359836  \n",
       "4  4.565389  0.186193  10.301626  "
      ]
     },
     "execution_count": 12,
     "metadata": {},
     "output_type": "execute_result"
    }
   ],
   "source": [
    "data = 'MEAP93.DTA'\n",
    "df = pd.read_stata(data)\n",
    "df.head()"
   ]
  },
  {
   "cell_type": "markdown",
   "id": "9fb4e63e",
   "metadata": {},
   "source": [
    "### i) Do you think each additional dollar spent has the same effect on the pass rate, or does a\n",
    "diminishing effect seem more appropriate? Explain."
   ]
  },
  {
   "cell_type": "code",
   "execution_count": 13,
   "id": "26dcc1e3",
   "metadata": {
    "scrolled": true
   },
   "outputs": [
    {
     "data": {
      "text/plain": [
       "Text(0, 0.5, 'Pass Rate (%)')"
      ]
     },
     "execution_count": 13,
     "metadata": {},
     "output_type": "execute_result"
    },
    {
     "data": {
      "image/png": "[encoded data removed]",
      "text/plain": [
       "<Figure size 640x480 with 1 Axes>"
      ]
     },
     "metadata": {},
     "output_type": "display_data"
    }
   ],
   "source": [
    "plt.scatter(df['expend'], df['math10'])\n",
    "plt.xlabel(\"Spending Per Student ($)\")\n",
    "plt.ylabel(\"Pass Rate (%)\")"
   ]
  },
  {
   "cell_type": "markdown",
   "id": "dcd9ec23",
   "metadata": {},
   "source": [
    "From the Scatter Plot above, we can see that there is a very weak positive correlation between Spending Per Student `expend` and Pass Rate `math10`. This implies that a diminishing effect may be more appropriate."
   ]
  },
  {
   "cell_type": "markdown",
   "id": "ceea2d94",
   "metadata": {},
   "source": [
    "### ii) Estimate the simple regression model where math10 is the outcome variable and log(expend)\n",
    "is the explanatory variable. Report the results, including the sample size and R-squared."
   ]
  },
  {
   "cell_type": "code",
   "execution_count": 14,
   "id": "75e0a2bd",
   "metadata": {
    "scrolled": true
   },
   "outputs": [
    {
     "name": "stdout",
     "output_type": "stream",
     "text": [
      "                            OLS Regression Results                            \n",
      "==============================================================================\n",
      "Dep. Variable:                 math10   R-squared:                       0.030\n",
      "Model:                            OLS   Adj. R-squared:                  0.027\n",
      "Method:                 Least Squares   F-statistic:                     12.41\n",
      "Date:                Wed, 13 Sep 2023   Prob (F-statistic):           0.000475\n",
      "Time:                        12:42:38   Log-Likelihood:                -1531.4\n",
      "No. Observations:                 408   AIC:                             3067.\n",
      "Df Residuals:                     406   BIC:                             3075.\n",
      "Df Model:                           1                                         \n",
      "Covariance Type:            nonrobust                                         \n",
      "==============================================================================\n",
      "                 coef    std err          t      P>|t|      [0.025      0.975]\n",
      "------------------------------------------------------------------------------\n",
      "const        -69.3411     26.530     -2.614      0.009    -121.495     -17.188\n",
      "lexpend       11.1644      3.169      3.523      0.000       4.935      17.394\n",
      "==============================================================================\n",
      "Omnibus:                       28.397   Durbin-Watson:                   1.615\n",
      "Prob(Omnibus):                  0.000   Jarque-Bera (JB):               34.609\n",
      "Skew:                           0.591   Prob(JB):                     3.05e-08\n",
      "Kurtosis:                       3.800   Cond. No.                         440.\n",
      "==============================================================================\n",
      "\n",
      "Notes:\n",
      "[1] Standard Errors assume that the covariance matrix of the errors is correctly specified.\n"
     ]
    }
   ],
   "source": [
    "X = df['lexpend'] # independent var\n",
    "Y = df['math10'] # dependent var\n",
    "\n",
    "# add an intercept to independent variable\n",
    "X = sm.add_constant(X)\n",
    "\n",
    "# fit model\n",
    "model = sm.OLS(Y, X).fit()\n",
    "\n",
    "# regression summary\n",
    "print(model.summary())"
   ]
  },
  {
   "cell_type": "markdown",
   "id": "2d9a23a3",
   "metadata": {},
   "source": [
    "$S = 408$\n",
    "\n",
    "$R^2 = 0.03$"
   ]
  },
  {
   "cell_type": "markdown",
   "id": "cb23954c",
   "metadata": {},
   "source": [
    "### iii) How big is the estimated spending effect? Namely, if spending increases by 10%, what is the\n",
    "estimated percentage point increase in math10?"
   ]
  },
  {
   "cell_type": "markdown",
   "id": "10f5f3c5",
   "metadata": {},
   "source": [
    "If spending increases by 10 percent, the Pass Rate will increase by about 1.1. ($\\beta_1 * Spending Increase = 11.1611 * 0.10 = 1.1$)"
   ]
  },
  {
   "cell_type": "markdown",
   "id": "0be849eb",
   "metadata": {},
   "source": [
    "### iv) One might worry that regression analysis can produce fitted values for math10 that are greater\n",
    "than 100. Why is this not much of a worry in this data set?"
   ]
  },
  {
   "cell_type": "markdown",
   "id": "0a5609b7",
   "metadata": {},
   "source": [
    "The Pass Rate `math10` cannot be greater than 100 pecent. See below for max percentage."
   ]
  },
  {
   "cell_type": "code",
   "execution_count": 15,
   "id": "482c2aaa",
   "metadata": {},
   "outputs": [
    {
     "name": "stdout",
     "output_type": "stream",
     "text": [
      "Highest Pass Rate: 67%\n"
     ]
    }
   ],
   "source": [
    "print(f\"Highest Pass Rate: {round(df['math10'].max())}%\")\n"
   ]
  }
 ],
 "metadata": {
  "kernelspec": {
   "display_name": "Python 3 (ipykernel)",
   "language": "python",
   "name": "python3"
  },
  "language_info": {
   "codemirror_mode": {
    "name": "ipython",
    "version": 3
   },
   "file_extension": ".py",
   "mimetype": "text/x-python",
   "name": "python",
   "nbconvert_exporter": "python",
   "pygments_lexer": "ipython3",
   "version": "3.10.9"
  }
 },
 "nbformat": 4,
 "nbformat_minor": 5
}
